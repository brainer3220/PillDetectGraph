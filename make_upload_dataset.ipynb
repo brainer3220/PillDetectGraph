{
 "cells": [
  {
   "cell_type": "code",
   "execution_count": 1,
   "id": "initial_id",
   "metadata": {
    "collapsed": true,
    "ExecuteTime": {
     "end_time": "2023-12-29T05:30:22.400592Z",
     "start_time": "2023-12-29T05:30:21.681909Z"
    }
   },
   "outputs": [],
   "source": [
    "from glob import glob\n",
    "\n",
    "import pandas as pd\n",
    "from datasets import Dataset"
   ]
  },
  {
   "cell_type": "code",
   "outputs": [
    {
     "data": {
      "text/plain": "['data/국민건강보험공단_의약품처방정보_20211231/국민건강보험공단_의약품처방정보_02_20211231.csv',\n 'data/국민건강보험공단_의약품처방정보_20211231/국민건강보험공단_의약품처방정보_03_20211231.csv',\n 'data/국민건강보험공단_의약품처방정보_20211231/국민건강보험공단_의약품처방정보_01_20211231.csv']"
     },
     "execution_count": 2,
     "metadata": {},
     "output_type": "execute_result"
    }
   ],
   "source": [
    "data_list = glob('data/국민건강보험공단_의약품처방정보_20211231/*.csv')\n",
    "data_list"
   ],
   "metadata": {
    "collapsed": false,
    "ExecuteTime": {
     "end_time": "2023-12-29T05:30:22.408655Z",
     "start_time": "2023-12-29T05:30:22.401047Z"
    }
   },
   "id": "165922ee6c9cd63d",
   "execution_count": 2
  },
  {
   "cell_type": "code",
   "outputs": [
    {
     "data": {
      "text/plain": "          STND_Y  IDV_ID  KEY_SEQ  SEQ_NO  SEX  AGE_GROUP  SIDO  RECU_FR_DT  \\\n0           2021  497808  4026671       1    2         13    41  2021-03-15   \n1           2021  717375  4029302       1    2         13    41  2021-12-28   \n2           2021  182692  4029586       1    2         13    41  2021-04-05   \n3           2021  232940  4030115       1    2         13    41  2021-09-15   \n4           2021  700503  4033436       1    2         13    41  2021-03-24   \n...          ...     ...      ...     ...  ...        ...   ...         ...   \n10499995    2021  441089  3986910       2    1          7    11  2021-12-16   \n10499996    2021  970090  3993577       6    1         14    27  2021-12-16   \n10499997    2021  782017  3999091       4    1         13    41  2021-03-25   \n10499998    2021   55885  4008905       2    1         12    41  2021-06-04   \n10499999    2021  946521  4010769       2    1         16    30  2021-07-22   \n\n          GNL_NM_CD  DD_MQTY_FREQ  DD_EXEC_FREQ  MDCN_EXEC_FREQ  UN_COST  \\\n0         454003ATB           1.0             1              30    346.0   \n1         442330ATB           1.0             1               3  14961.0   \n2         111501ATB           1.0             1              40    612.0   \n3         241803ATB           1.0             1               3    406.0   \n4         111501ATB           1.0             1              90    647.0   \n...             ...           ...           ...             ...      ...   \n10499995  197802ATB           2.0             2              57   1258.0   \n10499996  636101ATB           0.5             1              45    705.0   \n10499997  250503ATR           3.0             1              75    320.0   \n10499998  172001ACH           2.0             1              65    278.0   \n10499999  522000ATB           0.5             1             185    670.0   \n\n             AMT DATA_STD_DT  \n0          10380  2022-08-11  \n1          44883  2022-08-11  \n2          24480  2022-08-11  \n3           1218  2022-08-11  \n4          58230  2022-08-11  \n...          ...         ...  \n10499995  286824  2022-08-11  \n10499996   15863  2022-08-11  \n10499997   72000  2022-08-11  \n10499998   36140  2022-08-11  \n10499999   61975  2022-08-11  \n\n[32053871 rows x 15 columns]",
      "text/html": "<div>\n<style scoped>\n    .dataframe tbody tr th:only-of-type {\n        vertical-align: middle;\n    }\n\n    .dataframe tbody tr th {\n        vertical-align: top;\n    }\n\n    .dataframe thead th {\n        text-align: right;\n    }\n</style>\n<table border=\"1\" class=\"dataframe\">\n  <thead>\n    <tr style=\"text-align: right;\">\n      <th></th>\n      <th>STND_Y</th>\n      <th>IDV_ID</th>\n      <th>KEY_SEQ</th>\n      <th>SEQ_NO</th>\n      <th>SEX</th>\n      <th>AGE_GROUP</th>\n      <th>SIDO</th>\n      <th>RECU_FR_DT</th>\n      <th>GNL_NM_CD</th>\n      <th>DD_MQTY_FREQ</th>\n      <th>DD_EXEC_FREQ</th>\n      <th>MDCN_EXEC_FREQ</th>\n      <th>UN_COST</th>\n      <th>AMT</th>\n      <th>DATA_STD_DT</th>\n    </tr>\n  </thead>\n  <tbody>\n    <tr>\n      <th>0</th>\n      <td>2021</td>\n      <td>497808</td>\n      <td>4026671</td>\n      <td>1</td>\n      <td>2</td>\n      <td>13</td>\n      <td>41</td>\n      <td>2021-03-15</td>\n      <td>454003ATB</td>\n      <td>1.0</td>\n      <td>1</td>\n      <td>30</td>\n      <td>346.0</td>\n      <td>10380</td>\n      <td>2022-08-11</td>\n    </tr>\n    <tr>\n      <th>1</th>\n      <td>2021</td>\n      <td>717375</td>\n      <td>4029302</td>\n      <td>1</td>\n      <td>2</td>\n      <td>13</td>\n      <td>41</td>\n      <td>2021-12-28</td>\n      <td>442330ATB</td>\n      <td>1.0</td>\n      <td>1</td>\n      <td>3</td>\n      <td>14961.0</td>\n      <td>44883</td>\n      <td>2022-08-11</td>\n    </tr>\n    <tr>\n      <th>2</th>\n      <td>2021</td>\n      <td>182692</td>\n      <td>4029586</td>\n      <td>1</td>\n      <td>2</td>\n      <td>13</td>\n      <td>41</td>\n      <td>2021-04-05</td>\n      <td>111501ATB</td>\n      <td>1.0</td>\n      <td>1</td>\n      <td>40</td>\n      <td>612.0</td>\n      <td>24480</td>\n      <td>2022-08-11</td>\n    </tr>\n    <tr>\n      <th>3</th>\n      <td>2021</td>\n      <td>232940</td>\n      <td>4030115</td>\n      <td>1</td>\n      <td>2</td>\n      <td>13</td>\n      <td>41</td>\n      <td>2021-09-15</td>\n      <td>241803ATB</td>\n      <td>1.0</td>\n      <td>1</td>\n      <td>3</td>\n      <td>406.0</td>\n      <td>1218</td>\n      <td>2022-08-11</td>\n    </tr>\n    <tr>\n      <th>4</th>\n      <td>2021</td>\n      <td>700503</td>\n      <td>4033436</td>\n      <td>1</td>\n      <td>2</td>\n      <td>13</td>\n      <td>41</td>\n      <td>2021-03-24</td>\n      <td>111501ATB</td>\n      <td>1.0</td>\n      <td>1</td>\n      <td>90</td>\n      <td>647.0</td>\n      <td>58230</td>\n      <td>2022-08-11</td>\n    </tr>\n    <tr>\n      <th>...</th>\n      <td>...</td>\n      <td>...</td>\n      <td>...</td>\n      <td>...</td>\n      <td>...</td>\n      <td>...</td>\n      <td>...</td>\n      <td>...</td>\n      <td>...</td>\n      <td>...</td>\n      <td>...</td>\n      <td>...</td>\n      <td>...</td>\n      <td>...</td>\n      <td>...</td>\n    </tr>\n    <tr>\n      <th>10499995</th>\n      <td>2021</td>\n      <td>441089</td>\n      <td>3986910</td>\n      <td>2</td>\n      <td>1</td>\n      <td>7</td>\n      <td>11</td>\n      <td>2021-12-16</td>\n      <td>197802ATB</td>\n      <td>2.0</td>\n      <td>2</td>\n      <td>57</td>\n      <td>1258.0</td>\n      <td>286824</td>\n      <td>2022-08-11</td>\n    </tr>\n    <tr>\n      <th>10499996</th>\n      <td>2021</td>\n      <td>970090</td>\n      <td>3993577</td>\n      <td>6</td>\n      <td>1</td>\n      <td>14</td>\n      <td>27</td>\n      <td>2021-12-16</td>\n      <td>636101ATB</td>\n      <td>0.5</td>\n      <td>1</td>\n      <td>45</td>\n      <td>705.0</td>\n      <td>15863</td>\n      <td>2022-08-11</td>\n    </tr>\n    <tr>\n      <th>10499997</th>\n      <td>2021</td>\n      <td>782017</td>\n      <td>3999091</td>\n      <td>4</td>\n      <td>1</td>\n      <td>13</td>\n      <td>41</td>\n      <td>2021-03-25</td>\n      <td>250503ATR</td>\n      <td>3.0</td>\n      <td>1</td>\n      <td>75</td>\n      <td>320.0</td>\n      <td>72000</td>\n      <td>2022-08-11</td>\n    </tr>\n    <tr>\n      <th>10499998</th>\n      <td>2021</td>\n      <td>55885</td>\n      <td>4008905</td>\n      <td>2</td>\n      <td>1</td>\n      <td>12</td>\n      <td>41</td>\n      <td>2021-06-04</td>\n      <td>172001ACH</td>\n      <td>2.0</td>\n      <td>1</td>\n      <td>65</td>\n      <td>278.0</td>\n      <td>36140</td>\n      <td>2022-08-11</td>\n    </tr>\n    <tr>\n      <th>10499999</th>\n      <td>2021</td>\n      <td>946521</td>\n      <td>4010769</td>\n      <td>2</td>\n      <td>1</td>\n      <td>16</td>\n      <td>30</td>\n      <td>2021-07-22</td>\n      <td>522000ATB</td>\n      <td>0.5</td>\n      <td>1</td>\n      <td>185</td>\n      <td>670.0</td>\n      <td>61975</td>\n      <td>2022-08-11</td>\n    </tr>\n  </tbody>\n</table>\n<p>32053871 rows × 15 columns</p>\n</div>"
     },
     "execution_count": 3,
     "metadata": {},
     "output_type": "execute_result"
    }
   ],
   "source": [
    "dfs = [pd.read_csv(data) for data in data_list]\n",
    "dfs = pd.concat(dfs)\n",
    "dfs"
   ],
   "metadata": {
    "collapsed": false,
    "ExecuteTime": {
     "end_time": "2023-12-29T05:30:50.356473Z",
     "start_time": "2023-12-29T05:30:23.316456Z"
    }
   },
   "id": "dfccae236f140c2c",
   "execution_count": 3
  },
  {
   "cell_type": "markdown",
   "source": [
    "| 연번 | 제공항목 | 표준항목명 | 영문명 | 설명 |\n",
    "| --- | --- | --- | --- | --- |\n",
    "| 1 | 기준년도 | STND_Y |  | 해당 정보의 기준년도를 제공함 |\n",
    "| 2 | 가입자 일련번호 | IDV_ID |  | 해당가입자에 부여한 일련번호 (1 ~ 1,000,000) |\n",
    "| 3 | 진료내역 일련번호 | KEY_SEQ |  | 해당진료내역에 대한 일련번호 |\n",
    "| 4 | 일련번호 | SEQ_NO |  | 해당 약품 일련번호 |\n",
    "| 5 | 성별코드 | SEX |  | 해당 정보 대상자의 성별을 제공함 (성별: 1(남자), 2(여자)) |\n",
    "\n",
    "| 연번 | 제공항목 | 표준항목명 | 영문명 | 설명 | 그룹 | 연령대 | 그룹 | 연령대 |\n",
    "| --- | --- | --- | --- | --- | --- | --- | --- | --- |\n",
    "| 5 | 연령대 코드 | AGE_GROUP |  | 기준년도에 수진자의 나이를 5세 단위로 그룹화하여 구분한 코드 (총 18개 그룹) | 1 | 0~4세 | 10 | 45~49세 |\n",
    "|  |  |  |  | 0~84세까지 5세 단위 그룹화, 85세 이상은 85+로 그룹화 | 2 | 5~9세 | 11 | 50~54세 |\n",
    "|  |  |  |  |  | 3 | 10~14세 | 12 | 55~59세 |\n",
    "|  |  |  |  |  | 4 | 15~19세 | 13 | 60~64세 |\n",
    "|  |  |  |  |  | 5 | 20~24세 | 14 | 65~69세 |\n",
    "|  |  |  |  |  | 6 | 25~29세 | 15 | 70~74세 |\n",
    "|  |  |  |  |  | 7 | 30~34세 | 16 | 75~79세 |\n",
    "|  |  |  |  |  | 8 | 35~39세 | 17 | 80~84세 |\n",
    "|  |  |  |  |  | 9 | 40~44세 | 18 | 85세+ |\n",
    "\n",
    "| 연번 | 제공항목 | 표준항목명 | 영문명 | 설명 | 코드명 | 시도명 | 코드명 | 시도명 |\n",
    "| --- | --- | --- | --- | --- | --- | --- | --- | --- |\n",
    "| 6 | 시도코드 | SIDO |  | 해당 수진자 거주지의 시도코드 (2012년부터 세종특별자치시가 신규로 편입됨에 따라, 2011년까지의 데이터에는 해당 항목이 존재하지 않음) | 11 | 서울특별시 | 42 | 강원도 |\n",
    "|  |  |  |  |  | 26 | 부산광역시 | 43 | 충청북도 |\n",
    "|  |  |  |  |  | 27 | 대구광역시 | 44 | 충청남도 |\n",
    "|  |  |  |  |  | 28 | 인천광역시 | 45 | 전라북도 |\n",
    "|  |  |  |  |  | 29 | 광주광역시 | 46 | 전라남도 |\n",
    "|  |  |  |  |  | 30 | 대전광역시 | 47 | 경상북도 |\n",
    "|  |  |  |  |  | 31 | 울산광역시 | 48 | 경상남도 |\n",
    "|  |  |  |  |  | 36 | 세종특별자치시 | 49 | 제주특별자치도 |\n",
    "|  |  |  |  |  | 41 | 경기도 |  |  |\n",
    "\n",
    "| 연번 | 제공항목 | 표준항목명 | 영문명 | 설명 | 구분 | 의과_보건기관 |\n",
    "| --- | --- | --- | --- | --- | --- | --- |\n",
    "| 8 | 서식코드 | FORM_CD |  | 명세서 서식구분을 위한 코드; 의과_보건기관에서 진료한 환자의 진료형태를 구분함 | 02 | 의과 입원 |\n",
    "\n",
    "| 연번 | 제공항목 | 표준항목명 | 영문명 | 설명 | 구분 | 의과_보건기관 |\n",
    "| --- | --- | --- | --- | --- | --- | --- |\n",
    "| 9 | 진료과목 코드 | DSBJT_CD |  | 의과 26종의 진료과목코드에 따라 병원급 이상의 진료기관일 경우 실제진료를 받은 진료과목, 의원급 의료기관일 경우 상병 명에 해당되는 진료과목 | 0 | 일반의 |\n",
    "\n",
    "| 연번 | 제공항목 | 표준항목명 | 영문명 | 설명 |\n",
    "| --- | --- | --- | --- | --- |\n",
    "| 10 | 주상병 코드 | MAIN_SICK |  | 명세서 상의 주상병의 분류기호 - 통계청 고시에 따른「한국표준 질병·사인 분류 4, 5, 6차 상병 분류 기호 참조 |\n",
    "| 11 | 부상병 코드 | SUB_SICK |  | 명세서 상의 주된 상병분류기호 외의 추가 상병(부상병)의 분류 기호 - 결측(ZZ), 정상 또는 해당사항 없음(-)으로 표시 - 통계청 고시에 따른「한국표준 질병·사인 분류 4, 5, 6차 상병 분류 기호 참조 |\n",
    "| 12 | 요양일수 | VSCN |  | 수진자가 요양급여를 받은 실 일수 - 입원 또는 내원일수에 원내 투약일수를 산입하여 기재 - 내원일수는 초진과 재진을 포함함 |\n",
    "| 13 | 입내원 일수 | RECN |  | (입원진료) 수진자가 진료를 받기 위해 요양기관에 입원한 날부터 퇴원 일까지의 실 일수 - (내원진료) 수진자가 내원하여 진료를 받은 실 일 수 |\n",
    "\n",
    "| 연번 | 제공항목 | 표준항목명 | 영문명 | 설명 | 요양기관 종류 | 건강보험 | 의료급여 |\n",
    "| --- | --- | --- | --- | --- | --- | --- | --- |\n",
    "| 14 | 심결가산율 | EDEC_ADD_RT |  | 요양개시일자 기준으로 종별 규모에 따라 시설, 인력, 장비 등의 투자비용 등을 고려하여 요양기관 종별에 따라 가산 적용되는 진료비의 가산율(%) | 상급 종합병원 | 30% | 22% |\n",
    "|  |  |  |  |  | 종합병원 | 25% | 18% |\n",
    "|  |  |  |  |  | 병원(요양병원 포함) | 20% | 15% |\n",
    "|  |  |  |  |  | 의원, 보건의료원 등 | 15% | 11% |\n",
    "\n",
    "| 연번 | 제공항목 | 표준항목명 | 영문명 | 설명 |\n",
    "| --- | --- | --- | --- | --- |\n",
    "| 15 | 심결요양 급여비용 총액 | EDEC_TRAMT |  | 심결요양급여비용총액은 정산심사결과 수진자 본인이 부담해야 될 금액인「심결본인부담금」과 보험자가 부담해야 할 「심결 보험자부담금」합친 금액 |\n",
    "| 16 | 심결본인 부담금 | EDEC_SBRDN_AMT |  | 요양급여비용심사결과를 통해 결정된 수진자 본인이 부담해야 할 부담금 - 국민건강보험법 시행령 [별표2]에 따른 본인일부부담금(동법 시행령 별표2 제4호 및 제5호에 따른 금액을 제외)에서 10원 미만 절사한 금액 |\n",
    "| 17 | 심결 보험자 부담금 | EDEC_JBRDN_AMT |  | 심결요양급여비용총액에서 본인일부부담금을 제외한 금액으로 보험자가 부담하여야 하는 금액 |\n",
    "| 18 | 총처방 일수 | TOT_PRES_DD_CNT |  | 처방전을 발급한 경우에 해당 처방전에 따라 조제 투약하도록 처방한 일수의 합 |\n",
    "| 19 | 데이터 기준일자 | DATA_STD_DT |  | 데이터 작성 기준 일자 |\n",
    "\n",
    "| 연번 | 제공항목 | 표준항목명 | 영문명 | 설명 |\n",
    "| --- | --- | --- | --- | --- |\n",
    "|  | 단가 | UN_COST |  | 처방 내역상의 의약품 단가\n",
    "\n",
    "제품코드 약품명 제약사명 규격단위 상한금액 실구입가 단가\n",
    "641100180\n",
    "A연질\n",
    "캅셀\n",
    "A제약 1캅셀 245 247 245 |\n",
    "|  | 금액 | AMT |  | 단가, 1회 투약량, 1일 투약량, 총투여일수를 곱한 금액\n",
    "­ 예시) 652101370 트렌탈 400 서방정 1회 1정, 1일 2회,\n",
    "2일 투여시 ⥤ 190(원)×1(정)×2(회)×2(일)= 760원\n",
    "※ 단, 규격에 따라서 금액이 상이하게 나올수 있으니 매\n",
    "월 고시되는 보건복지부 고시「약제급여목록 및 급여\n",
    "상한금액표」참고하여야 함 |"
   ],
   "metadata": {
    "collapsed": false
   },
   "id": "340a1c6bc8390b31"
  },
  {
   "cell_type": "code",
   "outputs": [
    {
     "data": {
      "text/plain": "Index(['STND_Y', 'IDV_ID', 'KEY_SEQ', 'SEQ_NO', 'SEX', 'AGE_GROUP', 'SIDO',\n       'RECU_FR_DT', 'GNL_NM_CD', 'DD_MQTY_FREQ', 'DD_EXEC_FREQ',\n       'MDCN_EXEC_FREQ', 'UN_COST', 'AMT', 'DATA_STD_DT'],\n      dtype='object')"
     },
     "execution_count": 4,
     "metadata": {},
     "output_type": "execute_result"
    }
   ],
   "source": [
    "dfs.columns"
   ],
   "metadata": {
    "collapsed": false,
    "ExecuteTime": {
     "end_time": "2023-12-29T05:31:40.075382Z",
     "start_time": "2023-12-29T05:31:40.056971Z"
    }
   },
   "id": "69297c8fc0dc4b79",
   "execution_count": 4
  },
  {
   "cell_type": "code",
   "outputs": [],
   "source": [
    "dfs_columns = {\n",
    "    'STND_Y': '기준년도',\n",
    "    'IDV_ID': '가입자 일련번호',\n",
    "    'KEY_SEQ': '진료내역 일련번호진료내역 일련번호',\n",
    "    'SEQ_NO': '일련번호',\n",
    "    'SEX': '성별코드',\n",
    "    'AGE_GROUP': '연령대 코드',\n",
    "    'SIDO': '시도코드',\n",
    "    'RECU_FR_DT': '요양개시일자',\n",
    "    'GNL_NM_CD': '1회투약량',\n",
    "    'DD_MQTY_FREQ': 'DD_MQTY_FREQ',\n",
    "    'DD_EXEC_FREQ': '1일투약량',\n",
    "    'MDCN_EXEC_FREQ': '총투여일수또는실시횟수',\n",
    "    'UN_COST': '단가',\n",
    "    'AMT': '금액',\n",
    "    'DATA_STD_DT': '데이터 기준일자'\n",
    "}"
   ],
   "metadata": {
    "collapsed": false,
    "ExecuteTime": {
     "end_time": "2023-12-29T05:40:31.627550Z",
     "start_time": "2023-12-29T05:40:31.619542Z"
    }
   },
   "id": "17d06ed362a815c9",
   "execution_count": 5
  },
  {
   "cell_type": "code",
   "outputs": [
    {
     "data": {
      "text/plain": "Dataset({\n    features: ['STND_Y', 'IDV_ID', 'KEY_SEQ', 'SEQ_NO', 'SEX', 'AGE_GROUP', 'SIDO', 'RECU_FR_DT', 'GNL_NM_CD', 'DD_MQTY_FREQ', 'DD_EXEC_FREQ', 'MDCN_EXEC_FREQ', 'UN_COST', 'AMT', 'DATA_STD_DT', '__index_level_0__'],\n    num_rows: 32053871\n})"
     },
     "execution_count": 6,
     "metadata": {},
     "output_type": "execute_result"
    }
   ],
   "source": [
    "ds = Dataset.from_pandas(dfs)\n",
    "ds"
   ],
   "metadata": {
    "collapsed": false,
    "ExecuteTime": {
     "end_time": "2023-12-29T05:41:03.130434Z",
     "start_time": "2023-12-29T05:40:35.754261Z"
    }
   },
   "id": "3fafd574461c43b1",
   "execution_count": 6
  },
  {
   "cell_type": "code",
   "outputs": [
    {
     "data": {
      "text/plain": "Uploading the dataset shards:   0%|          | 0/10 [00:00<?, ?it/s]",
      "application/vnd.jupyter.widget-view+json": {
       "version_major": 2,
       "version_minor": 0,
       "model_id": "36b2a5cd002b414d9bc060b837588d9d"
      }
     },
     "metadata": {},
     "output_type": "display_data"
    },
    {
     "data": {
      "text/plain": "Creating parquet from Arrow format:   0%|          | 0/3206 [00:00<?, ?ba/s]",
      "application/vnd.jupyter.widget-view+json": {
       "version_major": 2,
       "version_minor": 0,
       "model_id": "aab53a8d6752452489f9477e4cccd782"
      }
     },
     "metadata": {},
     "output_type": "display_data"
    },
    {
     "data": {
      "text/plain": "Creating parquet from Arrow format:   0%|          | 0/3206 [00:00<?, ?ba/s]",
      "application/vnd.jupyter.widget-view+json": {
       "version_major": 2,
       "version_minor": 0,
       "model_id": "b0e2209ed46247359cc7e5cdc62dfe74"
      }
     },
     "metadata": {},
     "output_type": "display_data"
    },
    {
     "data": {
      "text/plain": "Creating parquet from Arrow format:   0%|          | 0/3206 [00:00<?, ?ba/s]",
      "application/vnd.jupyter.widget-view+json": {
       "version_major": 2,
       "version_minor": 0,
       "model_id": "7d29e7802fb04782a2c50a4a4b7b98c9"
      }
     },
     "metadata": {},
     "output_type": "display_data"
    },
    {
     "data": {
      "text/plain": "Creating parquet from Arrow format:   0%|          | 0/3206 [00:00<?, ?ba/s]",
      "application/vnd.jupyter.widget-view+json": {
       "version_major": 2,
       "version_minor": 0,
       "model_id": "d565832fa61a4f188e9f43d65d9e582f"
      }
     },
     "metadata": {},
     "output_type": "display_data"
    },
    {
     "data": {
      "text/plain": "Creating parquet from Arrow format:   0%|          | 0/3206 [00:00<?, ?ba/s]",
      "application/vnd.jupyter.widget-view+json": {
       "version_major": 2,
       "version_minor": 0,
       "model_id": "ffcfa4449b0342658964414d94aeb981"
      }
     },
     "metadata": {},
     "output_type": "display_data"
    },
    {
     "data": {
      "text/plain": "Creating parquet from Arrow format:   0%|          | 0/3206 [00:00<?, ?ba/s]",
      "application/vnd.jupyter.widget-view+json": {
       "version_major": 2,
       "version_minor": 0,
       "model_id": "c29cb0752c754822a4223fcf8756cf5d"
      }
     },
     "metadata": {},
     "output_type": "display_data"
    },
    {
     "data": {
      "text/plain": "Creating parquet from Arrow format:   0%|          | 0/3206 [00:00<?, ?ba/s]",
      "application/vnd.jupyter.widget-view+json": {
       "version_major": 2,
       "version_minor": 0,
       "model_id": "659ce3d3765c4b54868bd62d18f3334c"
      }
     },
     "metadata": {},
     "output_type": "display_data"
    },
    {
     "data": {
      "text/plain": "Creating parquet from Arrow format:   0%|          | 0/3206 [00:00<?, ?ba/s]",
      "application/vnd.jupyter.widget-view+json": {
       "version_major": 2,
       "version_minor": 0,
       "model_id": "a46f317358194d78a4a14cb94f3239b9"
      }
     },
     "metadata": {},
     "output_type": "display_data"
    },
    {
     "data": {
      "text/plain": "Creating parquet from Arrow format:   0%|          | 0/3206 [00:00<?, ?ba/s]",
      "application/vnd.jupyter.widget-view+json": {
       "version_major": 2,
       "version_minor": 0,
       "model_id": "27da2e693d764b73a6b8b144814e902e"
      }
     },
     "metadata": {},
     "output_type": "display_data"
    },
    {
     "data": {
      "text/plain": "Creating parquet from Arrow format:   0%|          | 0/3206 [00:00<?, ?ba/s]",
      "application/vnd.jupyter.widget-view+json": {
       "version_major": 2,
       "version_minor": 0,
       "model_id": "e238920f65354f8aae6db0fe21f898e1"
      }
     },
     "metadata": {},
     "output_type": "display_data"
    },
    {
     "data": {
      "text/plain": "README.md:   0%|          | 0.00/1.60k [00:00<?, ?B/s]",
      "application/vnd.jupyter.widget-view+json": {
       "version_major": 2,
       "version_minor": 0,
       "model_id": "4dfb6891043a45c5bcb200908834cbbe"
      }
     },
     "metadata": {},
     "output_type": "display_data"
    },
    {
     "data": {
      "text/plain": "CommitInfo(commit_url='https://huggingface.co/datasets/brainer/korean-medicine-prescription/commit/ec44ddf38e16e4d2424268d5c1357f4c0e506fa8', commit_message='Upload dataset', commit_description='', oid='ec44ddf38e16e4d2424268d5c1357f4c0e506fa8', pr_url=None, pr_revision=None, pr_num=None)"
     },
     "execution_count": 9,
     "metadata": {},
     "output_type": "execute_result"
    }
   ],
   "source": [
    "ds.push_to_hub(\"brainer/korean-medicine-prescription\", private=True)"
   ],
   "metadata": {
    "collapsed": false,
    "ExecuteTime": {
     "end_time": "2023-12-29T05:48:18.682105Z",
     "start_time": "2023-12-29T05:47:50.477556Z"
    }
   },
   "id": "be170808b2804bde",
   "execution_count": 9
  }
 ],
 "metadata": {
  "kernelspec": {
   "display_name": "Python 3",
   "language": "python",
   "name": "python3"
  },
  "language_info": {
   "codemirror_mode": {
    "name": "ipython",
    "version": 2
   },
   "file_extension": ".py",
   "mimetype": "text/x-python",
   "name": "python",
   "nbconvert_exporter": "python",
   "pygments_lexer": "ipython2",
   "version": "2.7.6"
  }
 },
 "nbformat": 4,
 "nbformat_minor": 5
}
