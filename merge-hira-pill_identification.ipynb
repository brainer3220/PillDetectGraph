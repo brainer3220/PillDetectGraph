{
 "cells": [
  {
   "cell_type": "code",
   "execution_count": 1,
   "id": "initial_id",
   "metadata": {
    "collapsed": true,
    "ExecuteTime": {
     "end_time": "2024-01-01T06:46:04.143389Z",
     "start_time": "2024-01-01T06:45:47.943339Z"
    }
   },
   "outputs": [
    {
     "data": {
      "text/plain": "(Dataset({\n     features: ['기준년도', '가입자 일련번호', '진료내역 일련번호', '일련번호', '성별코드', '연령대 코드', '시도코드', '요양개시일자', '약품 일반성분명 코드', '1회투약량', '1일투약량', '총투여일수또는실시횟수', '단가', '금액', '데이터 기준일자', '__index_level_0__'],\n     num_rows: 32053871\n }),\n Dataset({\n     features: ['품목일련번호', '품목명', '업소일련번호', '업소명', '성상', '큰제품이미지', '표시앞', '표시뒤', '의약품제형', '색상앞', '색상뒤', '분할선앞', '분할선뒤', '크기장축', '크기단축', '크기두께', '이미지생성일자(약학정보원)', '분류번호', '분류명', '전문일반구분', '품목허가일자', '제형코드명', '표기내용앞', '표기내용뒤', '표기이미지앞', '표기이미지뒤', '표기코드앞', '표기코드뒤', '변경일자', '사업자번호', 'Unnamed: 30'],\n     num_rows: 25330\n }),\n Dataset({\n     features: ['한글상품명', '업체명', '약품규격', '제품총수량', '제형구분', '포장형태', '품목기준코드', '품목허가일자', '전문_일반', '대표코드', '표준코드', '제품코드(개정후)', '일반명코드(성분명코드)', '비고', '취소일자', '양도양수적용(공고)일자', '양도양수종료일자', '일련번호생략여부', '일련번호생략사유', 'ATC코드', '특수관리약품구분', '의약품판독장비구분'],\n     num_rows: 290750\n }))"
     },
     "execution_count": 1,
     "metadata": {},
     "output_type": "execute_result"
    }
   ],
   "source": [
    "from datasets import disable_caching, load_dataset\n",
    "\n",
    "disable_caching()\n",
    "pre_ds = load_dataset('brainer/korean-medicine-prescription')['train'].rename_columns({\n",
    "    'STND_Y': '기준년도',\n",
    "    'IDV_ID': '가입자 일련번호',\n",
    "    'KEY_SEQ': '진료내역 일련번호',\n",
    "    'SEQ_NO': '일련번호',\n",
    "    'SEX': '성별코드',\n",
    "    'AGE_GROUP': '연령대 코드',\n",
    "    'SIDO': '시도코드',\n",
    "    'RECU_FR_DT': '요양개시일자',\n",
    "    'GNL_NM_CD': '약품 일반성분명 코드',\n",
    "    'DD_MQTY_FREQ': '1회투약량',\n",
    "    'DD_EXEC_FREQ': '1일투약량',\n",
    "    'MDCN_EXEC_FREQ': '총투여일수또는실시횟수',\n",
    "    'UN_COST': '단가',\n",
    "    'AMT': '금액',\n",
    "    'DATA_STD_DT': '데이터 기준일자'\n",
    "})\n",
    "pill_ds = load_dataset(\"brainer/pill_identification_data\")['train']\n",
    "medicode_ds = load_dataset(\"brainer/pill_identification_data\", 'mdeication_code')['train']\n",
    "pre_ds, pill_ds, medicode_ds"
   ]
  },
  {
   "cell_type": "code",
   "outputs": [
    {
     "data": {
      "text/plain": "Dataset({\n    features: ['품목일련번호', '품목명', '업소일련번호', '업소명', '성상', '큰제품이미지', '표시앞', '표시뒤', '의약품제형', '색상앞', '색상뒤', '분할선앞', '분할선뒤', '크기장축', '크기단축', '크기두께', '이미지생성일자(약학정보원)', '분류번호', '분류명', '전문일반구분', '품목허가일자_x', '제형코드명', '표기내용앞', '표기내용뒤', '표기이미지앞', '표기이미지뒤', '표기코드앞', '표기코드뒤', '변경일자', '사업자번호', '한글상품명', '업체명', '약품규격', '제품총수량', '제형구분', '포장형태', '품목기준코드', '품목허가일자_y', '전문_일반', '대표코드', '표준코드', '제품코드(개정후)', '일반명코드(성분명코드)', '비고', '취소일자', '양도양수적용(공고)일자', '양도양수종료일자', '일련번호생략여부', '일련번호생략사유', 'ATC코드', '특수관리약품구분', '의약품판독장비구분'],\n    num_rows: 25314\n})"
     },
     "execution_count": 2,
     "metadata": {},
     "output_type": "execute_result"
    }
   ],
   "source": [
    "from datasets import Dataset\n",
    "import pandas as pd\n",
    "\n",
    "# Merge with pre_ds['품목명'] medinfo_ds['품목명']\n",
    "merge_ds = Dataset.from_pandas(pd.merge(\n",
    "    pill_ds.to_pandas(), medicode_ds.to_pandas(), how='left', left_on='품목일련번호', right_on='품목기준코드'\n",
    ").drop_duplicates('품목일련번호')).remove_columns(['Unnamed: 30', '__index_level_0__'])\n",
    "merge_ds"
   ],
   "metadata": {
    "collapsed": false,
    "ExecuteTime": {
     "end_time": "2024-01-01T06:46:04.817895Z",
     "start_time": "2024-01-01T06:46:04.143337Z"
    }
   },
   "id": "126abc923ce5aa3b",
   "execution_count": 2
  },
  {
   "cell_type": "code",
   "outputs": [
    {
     "data": {
      "text/plain": "Filter:   0%|          | 0/290750 [00:00<?, ? examples/s]",
      "application/vnd.jupyter.widget-view+json": {
       "version_major": 2,
       "version_minor": 0,
       "model_id": "7eff96caea194171875d0d1ab00c2de9"
      }
     },
     "metadata": {},
     "output_type": "display_data"
    },
    {
     "data": {
      "text/plain": "Dataset({\n    features: ['품목기준코드', '일반명코드(성분명코드)'],\n    num_rows: 13267\n})"
     },
     "execution_count": 3,
     "metadata": {},
     "output_type": "execute_result"
    }
   ],
   "source": [
    "group_code_ds = Dataset.from_pandas(pd.DataFrame(\n",
    "    medicode_ds.filter(lambda x: x['일반명코드(성분명코드)'] is not None).to_pandas().groupby('일반명코드(성분명코드)').apply(\n",
    "        lambda x: list(x['품목기준코드'])))).rename_column('0', '품목기준코드')\n",
    "group_code_ds"
   ],
   "metadata": {
    "collapsed": false,
    "ExecuteTime": {
     "end_time": "2024-01-01T06:46:09.157713Z",
     "start_time": "2024-01-01T06:46:04.816278Z"
    }
   },
   "id": "7e5d3a33cfe718af",
   "execution_count": 3
  },
  {
   "cell_type": "code",
   "outputs": [
    {
     "data": {
      "text/plain": "                                                  품목기준코드 일반명코드(성분명코드)\n0      [200002269, 200002269, 200002269, 200002269, 2...    100101ALQ\n1                                 [199001424, 199001424]    100101APD\n2      [200606991, 200606991, 200606991, 199501476, 1...    100102ACH\n3           [201901365, 201901365, 201901365, 201901365]    100102ALQ\n4           [199201988, 199201988, 199201988, 199201988]    100301ACH\n...                                                  ...          ...\n13262                             [202302071, 202302071]    E75800ACH\n13263                             [202302086, 202302086]    E75900ATB\n13264                  [202302128, 202302128, 202302128]    E76000ACS\n13265                             [202302140, 202302140]    E76100ACS\n13266                  [202302149, 202302149, 202302149]    E76200ATB\n\n[13267 rows x 2 columns]",
      "text/html": "<div>\n<style scoped>\n    .dataframe tbody tr th:only-of-type {\n        vertical-align: middle;\n    }\n\n    .dataframe tbody tr th {\n        vertical-align: top;\n    }\n\n    .dataframe thead th {\n        text-align: right;\n    }\n</style>\n<table border=\"1\" class=\"dataframe\">\n  <thead>\n    <tr style=\"text-align: right;\">\n      <th></th>\n      <th>품목기준코드</th>\n      <th>일반명코드(성분명코드)</th>\n    </tr>\n  </thead>\n  <tbody>\n    <tr>\n      <th>0</th>\n      <td>[200002269, 200002269, 200002269, 200002269, 2...</td>\n      <td>100101ALQ</td>\n    </tr>\n    <tr>\n      <th>1</th>\n      <td>[199001424, 199001424]</td>\n      <td>100101APD</td>\n    </tr>\n    <tr>\n      <th>2</th>\n      <td>[200606991, 200606991, 200606991, 199501476, 1...</td>\n      <td>100102ACH</td>\n    </tr>\n    <tr>\n      <th>3</th>\n      <td>[201901365, 201901365, 201901365, 201901365]</td>\n      <td>100102ALQ</td>\n    </tr>\n    <tr>\n      <th>4</th>\n      <td>[199201988, 199201988, 199201988, 199201988]</td>\n      <td>100301ACH</td>\n    </tr>\n    <tr>\n      <th>...</th>\n      <td>...</td>\n      <td>...</td>\n    </tr>\n    <tr>\n      <th>13262</th>\n      <td>[202302071, 202302071]</td>\n      <td>E75800ACH</td>\n    </tr>\n    <tr>\n      <th>13263</th>\n      <td>[202302086, 202302086]</td>\n      <td>E75900ATB</td>\n    </tr>\n    <tr>\n      <th>13264</th>\n      <td>[202302128, 202302128, 202302128]</td>\n      <td>E76000ACS</td>\n    </tr>\n    <tr>\n      <th>13265</th>\n      <td>[202302140, 202302140]</td>\n      <td>E76100ACS</td>\n    </tr>\n    <tr>\n      <th>13266</th>\n      <td>[202302149, 202302149, 202302149]</td>\n      <td>E76200ATB</td>\n    </tr>\n  </tbody>\n</table>\n<p>13267 rows × 2 columns</p>\n</div>"
     },
     "execution_count": 4,
     "metadata": {},
     "output_type": "execute_result"
    }
   ],
   "source": [
    "group_code_ds.to_pandas()"
   ],
   "metadata": {
    "collapsed": false,
    "ExecuteTime": {
     "end_time": "2024-01-01T06:46:09.167727Z",
     "start_time": "2024-01-01T06:46:09.155610Z"
    }
   },
   "id": "f4fc3aaf0cd72e6c",
   "execution_count": 4
  },
  {
   "cell_type": "code",
   "outputs": [
    {
     "data": {
      "text/plain": "2985"
     },
     "execution_count": 5,
     "metadata": {},
     "output_type": "execute_result"
    }
   ],
   "source": [
    "unique_code = pre_ds.unique('약품 일반성분명 코드')\n",
    "len(unique_code)"
   ],
   "metadata": {
    "collapsed": false,
    "ExecuteTime": {
     "end_time": "2024-01-01T06:46:09.445733Z",
     "start_time": "2024-01-01T06:46:09.165462Z"
    }
   },
   "id": "e53f0a08cfe0b62",
   "execution_count": 5
  },
  {
   "cell_type": "code",
   "outputs": [
    {
     "data": {
      "text/plain": "  0%|          | 0/2985 [00:00<?, ?it/s]",
      "application/vnd.jupyter.widget-view+json": {
       "version_major": 2,
       "version_minor": 0,
       "model_id": "1e5e3e536af143e28ebfe0fdc6ac10b2"
      }
     },
     "metadata": {},
     "output_type": "display_data"
    },
    {
     "data": {
      "text/plain": "2862"
     },
     "execution_count": 6,
     "metadata": {},
     "output_type": "execute_result"
    }
   ],
   "source": [
    "from tqdm.notebook import tqdm\n",
    "\n",
    "# group_code_ds['일반명코드(성분명코드)']에 unique_code가 겹침 갯수확인\n",
    "num_of_overlap = 0\n",
    "for code in tqdm(unique_code):\n",
    "    if code in group_code_ds['일반명코드(성분명코드)']:\n",
    "        num_of_overlap += 1\n",
    "num_of_overlap"
   ],
   "metadata": {
    "collapsed": false,
    "ExecuteTime": {
     "end_time": "2024-01-01T06:46:20.476373Z",
     "start_time": "2024-01-01T06:46:09.444344Z"
    }
   },
   "id": "bd55356ecc35df64",
   "execution_count": 6
  },
  {
   "cell_type": "code",
   "outputs": [
    {
     "name": "stdout",
     "output_type": "stream",
     "text": [
      "('E76200ATB', [202302149, 202302149, 202302149])\n"
     ]
    }
   ],
   "source": [
    "for row in group_code_ds.to_iterable_dataset():\n",
    "    code, products = row['일반명코드(성분명코드)'], row['품목기준코드']\n",
    "print(f\"{code, products}\")"
   ],
   "metadata": {
    "collapsed": false,
    "ExecuteTime": {
     "end_time": "2024-01-01T06:46:21.147306Z",
     "start_time": "2024-01-01T06:46:20.567819Z"
    }
   },
   "id": "628b5a4a832c5756",
   "execution_count": 7
  },
  {
   "cell_type": "code",
   "outputs": [
    {
     "data": {
      "text/plain": "Dataset({\n    features: ['기준년도', '가입자 일련번호', '진료내역 일련번호', '일련번호', '성별코드', '연령대 코드', '시도코드', '요양개시일자', '약품 일반성분명 코드', '1회투약량', '1일투약량', '총투여일수또는실시횟수', '단가', '금액', '데이터 기준일자', '__index_level_0__'],\n    num_rows: 32053871\n})"
     },
     "execution_count": 8,
     "metadata": {},
     "output_type": "execute_result"
    }
   ],
   "source": [
    "pre_ds"
   ],
   "metadata": {
    "collapsed": false,
    "ExecuteTime": {
     "end_time": "2024-01-01T06:46:21.150400Z",
     "start_time": "2024-01-01T06:46:21.146416Z"
    }
   },
   "id": "150232511640466e",
   "execution_count": 8
  },
  {
   "cell_type": "code",
   "outputs": [
    {
     "data": {
      "text/plain": "0it [00:00, ?it/s]",
      "application/vnd.jupyter.widget-view+json": {
       "version_major": 2,
       "version_minor": 0,
       "model_id": "2dda49af2c38487a854374999c82c5db"
      }
     },
     "metadata": {},
     "output_type": "display_data"
    },
    {
     "name": "stderr",
     "output_type": "stream",
     "text": [
      "Process SpawnPoolWorker-2:\n",
      "Traceback (most recent call last):\n",
      "  File \"/Users/brainer/anaconda3/envs/PillDetectGraph/lib/python3.8/multiprocessing/process.py\", line 315, in _bootstrap\n",
      "    self.run()\n",
      "  File \"/Users/brainer/anaconda3/envs/PillDetectGraph/lib/python3.8/multiprocessing/process.py\", line 108, in run\n",
      "    self._target(*self._args, **self._kwargs)\n",
      "  File \"/Users/brainer/anaconda3/envs/PillDetectGraph/lib/python3.8/multiprocessing/pool.py\", line 114, in worker\n",
      "    task = get()\n",
      "  File \"/Users/brainer/anaconda3/envs/PillDetectGraph/lib/python3.8/multiprocessing/queues.py\", line 358, in get\n",
      "    return _ForkingPickler.loads(res)\n",
      "AttributeError: Can't get attribute 'process_shard' on <module '__main__' (built-in)>\n",
      "Process SpawnPoolWorker-3:\n",
      "Traceback (most recent call last):\n",
      "  File \"/Users/brainer/anaconda3/envs/PillDetectGraph/lib/python3.8/multiprocessing/process.py\", line 315, in _bootstrap\n",
      "    self.run()\n",
      "  File \"/Users/brainer/anaconda3/envs/PillDetectGraph/lib/python3.8/multiprocessing/process.py\", line 108, in run\n",
      "    self._target(*self._args, **self._kwargs)\n",
      "  File \"/Users/brainer/anaconda3/envs/PillDetectGraph/lib/python3.8/multiprocessing/pool.py\", line 114, in worker\n",
      "    task = get()\n",
      "  File \"/Users/brainer/anaconda3/envs/PillDetectGraph/lib/python3.8/multiprocessing/queues.py\", line 358, in get\n",
      "    return _ForkingPickler.loads(res)\n",
      "AttributeError: Can't get attribute 'process_shard' on <module '__main__' (built-in)>\n",
      "Process SpawnPoolWorker-1:\n",
      "Traceback (most recent call last):\n",
      "  File \"/Users/brainer/anaconda3/envs/PillDetectGraph/lib/python3.8/multiprocessing/process.py\", line 315, in _bootstrap\n",
      "    self.run()\n",
      "  File \"/Users/brainer/anaconda3/envs/PillDetectGraph/lib/python3.8/multiprocessing/process.py\", line 108, in run\n",
      "    self._target(*self._args, **self._kwargs)\n",
      "  File \"/Users/brainer/anaconda3/envs/PillDetectGraph/lib/python3.8/multiprocessing/pool.py\", line 114, in worker\n",
      "    task = get()\n",
      "  File \"/Users/brainer/anaconda3/envs/PillDetectGraph/lib/python3.8/multiprocessing/queues.py\", line 358, in get\n",
      "    return _ForkingPickler.loads(res)\n",
      "AttributeError: Can't get attribute 'process_shard' on <module '__main__' (built-in)>\n",
      "Process SpawnPoolWorker-4:\n",
      "Traceback (most recent call last):\n",
      "  File \"/Users/brainer/anaconda3/envs/PillDetectGraph/lib/python3.8/multiprocessing/process.py\", line 315, in _bootstrap\n",
      "    self.run()\n",
      "  File \"/Users/brainer/anaconda3/envs/PillDetectGraph/lib/python3.8/multiprocessing/process.py\", line 108, in run\n",
      "    self._target(*self._args, **self._kwargs)\n",
      "  File \"/Users/brainer/anaconda3/envs/PillDetectGraph/lib/python3.8/multiprocessing/pool.py\", line 114, in worker\n",
      "    task = get()\n",
      "  File \"/Users/brainer/anaconda3/envs/PillDetectGraph/lib/python3.8/multiprocessing/queues.py\", line 358, in get\n",
      "    return _ForkingPickler.loads(res)\n",
      "AttributeError: Can't get attribute 'process_shard' on <module '__main__' (built-in)>\n",
      "Process SpawnPoolWorker-5:\n",
      "Traceback (most recent call last):\n",
      "  File \"/Users/brainer/anaconda3/envs/PillDetectGraph/lib/python3.8/multiprocessing/process.py\", line 315, in _bootstrap\n",
      "    self.run()\n",
      "  File \"/Users/brainer/anaconda3/envs/PillDetectGraph/lib/python3.8/multiprocessing/process.py\", line 108, in run\n",
      "    self._target(*self._args, **self._kwargs)\n",
      "  File \"/Users/brainer/anaconda3/envs/PillDetectGraph/lib/python3.8/multiprocessing/pool.py\", line 114, in worker\n",
      "    task = get()\n",
      "  File \"/Users/brainer/anaconda3/envs/PillDetectGraph/lib/python3.8/multiprocessing/queues.py\", line 358, in get\n",
      "    return _ForkingPickler.loads(res)\n",
      "AttributeError: Can't get attribute 'process_shard' on <module '__main__' (built-in)>\n",
      "Process SpawnPoolWorker-6:\n",
      "Traceback (most recent call last):\n",
      "  File \"/Users/brainer/anaconda3/envs/PillDetectGraph/lib/python3.8/multiprocessing/process.py\", line 315, in _bootstrap\n",
      "    self.run()\n",
      "  File \"/Users/brainer/anaconda3/envs/PillDetectGraph/lib/python3.8/multiprocessing/process.py\", line 108, in run\n",
      "    self._target(*self._args, **self._kwargs)\n",
      "  File \"/Users/brainer/anaconda3/envs/PillDetectGraph/lib/python3.8/multiprocessing/pool.py\", line 114, in worker\n",
      "    task = get()\n",
      "  File \"/Users/brainer/anaconda3/envs/PillDetectGraph/lib/python3.8/multiprocessing/queues.py\", line 358, in get\n",
      "    return _ForkingPickler.loads(res)\n",
      "AttributeError: Can't get attribute 'process_shard' on <module '__main__' (built-in)>\n",
      "Process SpawnPoolWorker-10:\n",
      "Traceback (most recent call last):\n",
      "  File \"/Users/brainer/anaconda3/envs/PillDetectGraph/lib/python3.8/multiprocessing/process.py\", line 315, in _bootstrap\n",
      "    self.run()\n",
      "  File \"/Users/brainer/anaconda3/envs/PillDetectGraph/lib/python3.8/multiprocessing/process.py\", line 108, in run\n",
      "    self._target(*self._args, **self._kwargs)\n",
      "  File \"/Users/brainer/anaconda3/envs/PillDetectGraph/lib/python3.8/multiprocessing/pool.py\", line 114, in worker\n",
      "    task = get()\n",
      "  File \"/Users/brainer/anaconda3/envs/PillDetectGraph/lib/python3.8/multiprocessing/queues.py\", line 355, in get\n",
      "    with self._rlock:\n",
      "  File \"/Users/brainer/anaconda3/envs/PillDetectGraph/lib/python3.8/multiprocessing/synchronize.py\", line 95, in __enter__\n",
      "    return self._semlock.__enter__()\n",
      "KeyboardInterrupt\n",
      "Process SpawnPoolWorker-12:\n",
      "Traceback (most recent call last):\n",
      "  File \"/Users/brainer/anaconda3/envs/PillDetectGraph/lib/python3.8/multiprocessing/process.py\", line 315, in _bootstrap\n",
      "    self.run()\n",
      "  File \"/Users/brainer/anaconda3/envs/PillDetectGraph/lib/python3.8/multiprocessing/process.py\", line 108, in run\n",
      "    self._target(*self._args, **self._kwargs)\n",
      "  File \"/Users/brainer/anaconda3/envs/PillDetectGraph/lib/python3.8/multiprocessing/pool.py\", line 114, in worker\n",
      "    task = get()\n",
      "  File \"/Users/brainer/anaconda3/envs/PillDetectGraph/lib/python3.8/multiprocessing/queues.py\", line 355, in get\n",
      "    with self._rlock:\n",
      "  File \"/Users/brainer/anaconda3/envs/PillDetectGraph/lib/python3.8/multiprocessing/synchronize.py\", line 95, in __enter__\n",
      "    return self._semlock.__enter__()\n",
      "KeyboardInterrupt\n",
      "Process SpawnPoolWorker-9:\n",
      "Traceback (most recent call last):\n",
      "  File \"/Users/brainer/anaconda3/envs/PillDetectGraph/lib/python3.8/multiprocessing/process.py\", line 315, in _bootstrap\n",
      "    self.run()\n",
      "  File \"/Users/brainer/anaconda3/envs/PillDetectGraph/lib/python3.8/multiprocessing/process.py\", line 108, in run\n",
      "    self._target(*self._args, **self._kwargs)\n",
      "  File \"/Users/brainer/anaconda3/envs/PillDetectGraph/lib/python3.8/multiprocessing/pool.py\", line 114, in worker\n",
      "    task = get()\n",
      "  File \"/Users/brainer/anaconda3/envs/PillDetectGraph/lib/python3.8/multiprocessing/queues.py\", line 355, in get\n",
      "    with self._rlock:\n",
      "  File \"/Users/brainer/anaconda3/envs/PillDetectGraph/lib/python3.8/multiprocessing/synchronize.py\", line 95, in __enter__\n",
      "    return self._semlock.__enter__()\n",
      "KeyboardInterrupt\n",
      "Process SpawnPoolWorker-8:\n",
      "Traceback (most recent call last):\n",
      "  File \"/Users/brainer/anaconda3/envs/PillDetectGraph/lib/python3.8/multiprocessing/process.py\", line 315, in _bootstrap\n",
      "    self.run()\n",
      "  File \"/Users/brainer/anaconda3/envs/PillDetectGraph/lib/python3.8/multiprocessing/process.py\", line 108, in run\n",
      "    self._target(*self._args, **self._kwargs)\n",
      "  File \"/Users/brainer/anaconda3/envs/PillDetectGraph/lib/python3.8/multiprocessing/pool.py\", line 114, in worker\n",
      "    task = get()\n",
      "  File \"/Users/brainer/anaconda3/envs/PillDetectGraph/lib/python3.8/multiprocessing/queues.py\", line 355, in get\n",
      "    with self._rlock:\n",
      "  File \"/Users/brainer/anaconda3/envs/PillDetectGraph/lib/python3.8/multiprocessing/synchronize.py\", line 95, in __enter__\n",
      "    return self._semlock.__enter__()\n",
      "KeyboardInterrupt\n",
      "Process SpawnPoolWorker-7:\n",
      "Traceback (most recent call last):\n",
      "  File \"/Users/brainer/anaconda3/envs/PillDetectGraph/lib/python3.8/multiprocessing/process.py\", line 315, in _bootstrap\n",
      "    self.run()\n",
      "  File \"/Users/brainer/anaconda3/envs/PillDetectGraph/lib/python3.8/multiprocessing/process.py\", line 108, in run\n",
      "    self._target(*self._args, **self._kwargs)\n",
      "  File \"/Users/brainer/anaconda3/envs/PillDetectGraph/lib/python3.8/multiprocessing/pool.py\", line 114, in worker\n",
      "    task = get()\n",
      "  File \"/Users/brainer/anaconda3/envs/PillDetectGraph/lib/python3.8/multiprocessing/queues.py\", line 356, in get\n",
      "    res = self._reader.recv_bytes()\n",
      "  File \"/Users/brainer/anaconda3/envs/PillDetectGraph/lib/python3.8/multiprocessing/connection.py\", line 216, in recv_bytes\n",
      "    buf = self._recv_bytes(maxlength)\n",
      "  File \"/Users/brainer/anaconda3/envs/PillDetectGraph/lib/python3.8/multiprocessing/connection.py\", line 414, in _recv_bytes\n",
      "    buf = self._recv(4)\n",
      "  File \"/Users/brainer/anaconda3/envs/PillDetectGraph/lib/python3.8/multiprocessing/connection.py\", line 379, in _recv\n",
      "    chunk = read(handle, remaining)\n",
      "KeyboardInterrupt\n",
      "Process SpawnPoolWorker-11:\n",
      "Traceback (most recent call last):\n",
      "  File \"/Users/brainer/anaconda3/envs/PillDetectGraph/lib/python3.8/multiprocessing/process.py\", line 315, in _bootstrap\n",
      "    self.run()\n",
      "  File \"/Users/brainer/anaconda3/envs/PillDetectGraph/lib/python3.8/multiprocessing/process.py\", line 108, in run\n",
      "    self._target(*self._args, **self._kwargs)\n",
      "  File \"/Users/brainer/anaconda3/envs/PillDetectGraph/lib/python3.8/multiprocessing/pool.py\", line 114, in worker\n",
      "    task = get()\n",
      "  File \"/Users/brainer/anaconda3/envs/PillDetectGraph/lib/python3.8/multiprocessing/queues.py\", line 355, in get\n",
      "    with self._rlock:\n",
      "  File \"/Users/brainer/anaconda3/envs/PillDetectGraph/lib/python3.8/multiprocessing/synchronize.py\", line 95, in __enter__\n",
      "    return self._semlock.__enter__()\n",
      "KeyboardInterrupt\n"
     ]
    },
    {
     "ename": "KeyboardInterrupt",
     "evalue": "",
     "output_type": "error",
     "traceback": [
      "\u001B[0;31m---------------------------------------------------------------------------\u001B[0m",
      "\u001B[0;31mKeyboardInterrupt\u001B[0m                         Traceback (most recent call last)",
      "Cell \u001B[0;32mIn[9], line 30\u001B[0m\n\u001B[1;32m     27\u001B[0m pool \u001B[38;5;241m=\u001B[39m Pool(processes\u001B[38;5;241m=\u001B[39mnum_shards)  \u001B[38;5;66;03m# 병렬 처리를 위한 Pool 생성\u001B[39;00m\n\u001B[1;32m     29\u001B[0m \u001B[38;5;66;03m# 각 shard 병렬 처리\u001B[39;00m\n\u001B[0;32m---> 30\u001B[0m shard_results \u001B[38;5;241m=\u001B[39m \u001B[38;5;28mlist\u001B[39m(tqdm(\u001B[43mpool\u001B[49m\u001B[38;5;241;43m.\u001B[39;49m\u001B[43mmap\u001B[49m\u001B[43m(\u001B[49m\u001B[43mprocess_shard\u001B[49m\u001B[43m,\u001B[49m\u001B[43m \u001B[49m\u001B[38;5;28;43mrange\u001B[39;49m\u001B[43m(\u001B[49m\u001B[43mnum_shards\u001B[49m\u001B[43m)\u001B[49m\u001B[43m)\u001B[49m))\n\u001B[1;32m     32\u001B[0m \u001B[38;5;66;03m# 결과 병합\u001B[39;00m\n\u001B[1;32m     33\u001B[0m combined_results \u001B[38;5;241m=\u001B[39m defaultdict(\u001B[38;5;28mset\u001B[39m)\n",
      "File \u001B[0;32m~/anaconda3/envs/PillDetectGraph/lib/python3.8/multiprocessing/pool.py:364\u001B[0m, in \u001B[0;36mPool.map\u001B[0;34m(self, func, iterable, chunksize)\u001B[0m\n\u001B[1;32m    359\u001B[0m \u001B[38;5;28;01mdef\u001B[39;00m \u001B[38;5;21mmap\u001B[39m(\u001B[38;5;28mself\u001B[39m, func, iterable, chunksize\u001B[38;5;241m=\u001B[39m\u001B[38;5;28;01mNone\u001B[39;00m):\n\u001B[1;32m    360\u001B[0m \u001B[38;5;250m    \u001B[39m\u001B[38;5;124;03m'''\u001B[39;00m\n\u001B[1;32m    361\u001B[0m \u001B[38;5;124;03m    Apply `func` to each element in `iterable`, collecting the results\u001B[39;00m\n\u001B[1;32m    362\u001B[0m \u001B[38;5;124;03m    in a list that is returned.\u001B[39;00m\n\u001B[1;32m    363\u001B[0m \u001B[38;5;124;03m    '''\u001B[39;00m\n\u001B[0;32m--> 364\u001B[0m     \u001B[38;5;28;01mreturn\u001B[39;00m \u001B[38;5;28;43mself\u001B[39;49m\u001B[38;5;241;43m.\u001B[39;49m\u001B[43m_map_async\u001B[49m\u001B[43m(\u001B[49m\u001B[43mfunc\u001B[49m\u001B[43m,\u001B[49m\u001B[43m \u001B[49m\u001B[43miterable\u001B[49m\u001B[43m,\u001B[49m\u001B[43m \u001B[49m\u001B[43mmapstar\u001B[49m\u001B[43m,\u001B[49m\u001B[43m \u001B[49m\u001B[43mchunksize\u001B[49m\u001B[43m)\u001B[49m\u001B[38;5;241;43m.\u001B[39;49m\u001B[43mget\u001B[49m\u001B[43m(\u001B[49m\u001B[43m)\u001B[49m\n",
      "File \u001B[0;32m~/anaconda3/envs/PillDetectGraph/lib/python3.8/multiprocessing/pool.py:765\u001B[0m, in \u001B[0;36mApplyResult.get\u001B[0;34m(self, timeout)\u001B[0m\n\u001B[1;32m    764\u001B[0m \u001B[38;5;28;01mdef\u001B[39;00m \u001B[38;5;21mget\u001B[39m(\u001B[38;5;28mself\u001B[39m, timeout\u001B[38;5;241m=\u001B[39m\u001B[38;5;28;01mNone\u001B[39;00m):\n\u001B[0;32m--> 765\u001B[0m     \u001B[38;5;28;43mself\u001B[39;49m\u001B[38;5;241;43m.\u001B[39;49m\u001B[43mwait\u001B[49m\u001B[43m(\u001B[49m\u001B[43mtimeout\u001B[49m\u001B[43m)\u001B[49m\n\u001B[1;32m    766\u001B[0m     \u001B[38;5;28;01mif\u001B[39;00m \u001B[38;5;129;01mnot\u001B[39;00m \u001B[38;5;28mself\u001B[39m\u001B[38;5;241m.\u001B[39mready():\n\u001B[1;32m    767\u001B[0m         \u001B[38;5;28;01mraise\u001B[39;00m \u001B[38;5;167;01mTimeoutError\u001B[39;00m\n",
      "File \u001B[0;32m~/anaconda3/envs/PillDetectGraph/lib/python3.8/multiprocessing/pool.py:762\u001B[0m, in \u001B[0;36mApplyResult.wait\u001B[0;34m(self, timeout)\u001B[0m\n\u001B[1;32m    761\u001B[0m \u001B[38;5;28;01mdef\u001B[39;00m \u001B[38;5;21mwait\u001B[39m(\u001B[38;5;28mself\u001B[39m, timeout\u001B[38;5;241m=\u001B[39m\u001B[38;5;28;01mNone\u001B[39;00m):\n\u001B[0;32m--> 762\u001B[0m     \u001B[38;5;28;43mself\u001B[39;49m\u001B[38;5;241;43m.\u001B[39;49m\u001B[43m_event\u001B[49m\u001B[38;5;241;43m.\u001B[39;49m\u001B[43mwait\u001B[49m\u001B[43m(\u001B[49m\u001B[43mtimeout\u001B[49m\u001B[43m)\u001B[49m\n",
      "File \u001B[0;32m~/anaconda3/envs/PillDetectGraph/lib/python3.8/threading.py:558\u001B[0m, in \u001B[0;36mEvent.wait\u001B[0;34m(self, timeout)\u001B[0m\n\u001B[1;32m    556\u001B[0m signaled \u001B[38;5;241m=\u001B[39m \u001B[38;5;28mself\u001B[39m\u001B[38;5;241m.\u001B[39m_flag\n\u001B[1;32m    557\u001B[0m \u001B[38;5;28;01mif\u001B[39;00m \u001B[38;5;129;01mnot\u001B[39;00m signaled:\n\u001B[0;32m--> 558\u001B[0m     signaled \u001B[38;5;241m=\u001B[39m \u001B[38;5;28;43mself\u001B[39;49m\u001B[38;5;241;43m.\u001B[39;49m\u001B[43m_cond\u001B[49m\u001B[38;5;241;43m.\u001B[39;49m\u001B[43mwait\u001B[49m\u001B[43m(\u001B[49m\u001B[43mtimeout\u001B[49m\u001B[43m)\u001B[49m\n\u001B[1;32m    559\u001B[0m \u001B[38;5;28;01mreturn\u001B[39;00m signaled\n",
      "File \u001B[0;32m~/anaconda3/envs/PillDetectGraph/lib/python3.8/threading.py:302\u001B[0m, in \u001B[0;36mCondition.wait\u001B[0;34m(self, timeout)\u001B[0m\n\u001B[1;32m    300\u001B[0m \u001B[38;5;28;01mtry\u001B[39;00m:    \u001B[38;5;66;03m# restore state no matter what (e.g., KeyboardInterrupt)\u001B[39;00m\n\u001B[1;32m    301\u001B[0m     \u001B[38;5;28;01mif\u001B[39;00m timeout \u001B[38;5;129;01mis\u001B[39;00m \u001B[38;5;28;01mNone\u001B[39;00m:\n\u001B[0;32m--> 302\u001B[0m         \u001B[43mwaiter\u001B[49m\u001B[38;5;241;43m.\u001B[39;49m\u001B[43macquire\u001B[49m\u001B[43m(\u001B[49m\u001B[43m)\u001B[49m\n\u001B[1;32m    303\u001B[0m         gotit \u001B[38;5;241m=\u001B[39m \u001B[38;5;28;01mTrue\u001B[39;00m\n\u001B[1;32m    304\u001B[0m     \u001B[38;5;28;01melse\u001B[39;00m:\n",
      "\u001B[0;31mKeyboardInterrupt\u001B[0m: "
     ]
    }
   ],
   "source": [
    "import networkx as nx\n",
    "from pyvis.network import Network\n",
    "from tqdm.notebook import tqdm\n",
    "\n",
    "# 그래프 생성\n",
    "G = nx.Graph()\n",
    "for row in tqdm(group_code_ds.to_iterable_dataset()):\n",
    "    code, products = row['일반명코드(성분명코드)'], row['품목기준코드']\n",
    "    for product in products:\n",
    "        G.add_edge(code, product)\n",
    "\n",
    "# pre_ds 데이터에서 '일반명코드(성분명코드)'의 중복 사용에 따라 edge 추가; 진료내역 일련번호가 같은 경우 weight 증가\n",
    "for row in tqdm(pre_ds.to_iterable_dataset(), total=len(pre_ds)):\n",
    "    code, seq_no = row['약품 일반성분명 코드'], row['진료내역 일련번호']\n",
    "    for row2 in pre_ds.filter(lambda x: x['진료내역 일련번호'] == seq_no, num_proc=6).to_iterable_dataset():\n",
    "        code2 = row2['약품 일반성분명 코드']\n",
    "        if code != code2:\n",
    "            G.add_edge(code, code2)\n",
    "        else:\n",
    "            if G.has_edge(code, code2):\n",
    "                G[code][code2]['weight'] += 1\n",
    "            else:\n",
    "                G.add_edge(code, code2, weight=1)"
   ],
   "metadata": {
    "collapsed": false,
    "ExecuteTime": {
     "end_time": "2024-01-01T06:46:58.631849Z",
     "start_time": "2024-01-01T06:46:21.151270Z"
    }
   },
   "id": "8c3533ec935d85a",
   "execution_count": 9
  },
  {
   "cell_type": "code",
   "outputs": [],
   "source": [
    "# Pyvis 네트워크 생성\n",
    "net = Network(notebook=True)\n",
    "net.from_nx(G)\n",
    "\n",
    "# 네트워크 시각화\n",
    "net.show('graph.html')"
   ],
   "metadata": {
    "collapsed": false,
    "ExecuteTime": {
     "start_time": "2024-01-01T06:46:58.626673Z"
    }
   },
   "id": "fae4041530380cbc"
  },
  {
   "cell_type": "code",
   "outputs": [],
   "source": [
    "pd.DataFrame(net.get_edges())"
   ],
   "metadata": {
    "collapsed": false,
    "ExecuteTime": {
     "start_time": "2024-01-01T06:46:58.627751Z"
    }
   },
   "id": "6e3ccc6844c02e64",
   "execution_count": null
  }
 ],
 "metadata": {
  "kernelspec": {
   "display_name": "Python 3",
   "language": "python",
   "name": "python3"
  },
  "language_info": {
   "codemirror_mode": {
    "name": "ipython",
    "version": 2
   },
   "file_extension": ".py",
   "mimetype": "text/x-python",
   "name": "python",
   "nbconvert_exporter": "python",
   "pygments_lexer": "ipython2",
   "version": "2.7.6"
  }
 },
 "nbformat": 4,
 "nbformat_minor": 5
}
