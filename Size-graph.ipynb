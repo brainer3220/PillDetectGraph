{
 "cells": [
  {
   "cell_type": "code",
   "execution_count": 66,
   "id": "initial_id",
   "metadata": {
    "collapsed": true,
    "ExecuteTime": {
     "end_time": "2024-01-07T08:10:05.248638Z",
     "start_time": "2024-01-07T08:10:00.797737Z"
    }
   },
   "outputs": [
    {
     "data": {
      "text/plain": "DatasetDict({\n    train: Dataset({\n        features: ['품목일련번호', '품목명', '업소일련번호', '업소명', '성상', '큰제품이미지', '표시앞', '표시뒤', '의약품제형', '색상앞', '색상뒤', '분할선앞', '분할선뒤', '크기장축', '크기단축', '크기두께', '이미지생성일자(약학정보원)', '분류번호', '분류명', '전문일반구분', '품목허가일자', '제형코드명', '표기내용앞', '표기내용뒤', '표기이미지앞', '표기이미지뒤', '표기코드앞', '표기코드뒤', '변경일자', '사업자번호'],\n        num_rows: 25330\n    })\n})"
     },
     "execution_count": 66,
     "metadata": {},
     "output_type": "execute_result"
    }
   ],
   "source": [
    "import numpy as np\n",
    "from datasets import load_dataset\n",
    "\n",
    "dataset = load_dataset(\"brainer/pill_identification_data\")\n",
    "dataset"
   ]
  },
  {
   "cell_type": "code",
   "outputs": [
    {
     "data": {
      "text/plain": "          품목일련번호                                        품목명    업소일련번호  \\\n194    200906540          로나센정2밀리그램(블로난세린)/로나센정4밀리그램(블로난세린)  19630001   \n411    200906540          로나센정2밀리그램(블로난세린)/로나센정4밀리그램(블로난세린)  19630001   \n1833   200209641           라믹탈정25밀리그램|50밀리그램|100밀리그램(라모트리진)  20161652   \n1834   200209641           라믹탈정25밀리그램|50밀리그램|100밀리그램(라모트리진)  20161652   \n1835   200209641           라믹탈정25밀리그램|50밀리그램|100밀리그램(라모트리진)  20161652   \n6027   200201478                치옥타시드에이취알정200|600밀리그램(티옥트산)  19630001   \n6036   200202793                              핀테정(에포니디핀염산염)  19910005   \n7011   200401818                  부스론정5밀리그램|10밀리그램(부스피론염산염)  19630001   \n7012   200401818                  부스론정5밀리그램|10밀리그램(부스피론염산염)  19630001   \n7226   200202793                              핀테정(에포니디핀염산염)  19910005   \n7347   200201478                치옥타시드에이취알정200|600밀리그램(티옥트산)  19630001   \n7349   200300393                                티에스원캡슐20|25  19860002   \n7350   200300393                                티에스원캡슐20|25  19860002   \n14748  201507425  젠스트린트로키(멘톨앤페퍼민트향|페퍼민트향|레몬향|복숭아향)(플루르비프로펜)  19560015   \n15567  201706587                             레날리드정(레날리도마이드)  19950019   \n15568  201706587                             레날리드정(레날리도마이드)  19950019   \n15569  201706587                             레날리드정(레날리도마이드)  19950019   \n15570  201706587                             레날리드정(레날리도마이드)  19950019   \n15571  201706587                             레날리드정(레날리도마이드)  19950019   \n15572  201706587                             레날리드정(레날리도마이드)  19950019   \n15573  201706587                             레날리드정(레날리도마이드)  19950019   \n16327  201507425  젠스트린트로키(멘톨앤페퍼민트향|페퍼민트향|레몬향|복숭아향)(플루르비프로펜)  19560015   \n16876  201507425  젠스트린트로키(멘톨앤페퍼민트향|페퍼민트향|레몬향|복숭아향)(플루르비프로펜)  19560015   \n25133  202300676      제포시아캡슐스타터팩0.23밀리그램/0.46밀리그램(오자니모드염산염)  20162212   \n25134  202300676      제포시아캡슐스타터팩0.23밀리그램/0.46밀리그램(오자니모드염산염)  20162212   \n\n                업소명                                                 성상  \\\n194         부광약품(주)                                            흰색의원형정제   \n411         부광약품(주)                                            흰색의원형정제   \n1833   (주)글락소스미스클라인                                        엷은황갈색의정방형정제   \n1834   (주)글락소스미스클라인                                        엷은황갈색의정방형정제   \n1835   (주)글락소스미스클라인                                        엷은황갈색의정방형정제   \n6027        부광약품(주)  200밀리그람:밝은녹색의양쪽이볼록한원형필름코팅정600밀리그람:황녹색의양쪽이볼록한장방...   \n6036         (주)녹십자                                 백색또는미황백색의원형필름코팅정이다   \n7011        부광약품(주)                                      양면볼록한장방형의백색정제   \n7012        부광약품(주)                                      양면볼록한장방형의백색정제   \n7226         (주)녹십자                                 백색또는미황백색의원형필름코팅정이다   \n7347        부광약품(주)  200밀리그람:밝은녹색의양쪽이볼록한원형필름코팅정600밀리그람:황녹색의양쪽이볼록한장방...   \n7349        제일약품(주)  티에스원캡슐20:백색의분말및입자를함유한백색의불투명한경질캡슐제이다.티에스원캡슐25:백...   \n7350        제일약품(주)  티에스원캡슐20:백색의분말및입자를함유한백색의불투명한경질캡슐제이다.티에스원캡슐25:백...   \n14748       신일제약(주)  젠스트린트로키(멘톨앤페퍼민트향):멘톨향과페퍼민트향이나는흰색내지미백색의원형트로키젠스트...   \n15567      (주)삼양홀딩스  [25mg|20mg|15mg|10mg]이약은연한노란색의장방형필름코팅정이다.[7.5m...   \n15568      (주)삼양홀딩스  [25mg|20mg|15mg|10mg]이약은연한노란색의장방형필름코팅정이다.[7.5m...   \n15569      (주)삼양홀딩스  [25mg|20mg|15mg|10mg]이약은연한노란색의장방형필름코팅정이다.[7.5m...   \n15570      (주)삼양홀딩스  [25mg|20mg|15mg|10mg]이약은연한노란색의장방형필름코팅정이다.[7.5m...   \n15571      (주)삼양홀딩스  [25mg|20mg|15mg|10mg]이약은연한노란색의장방형필름코팅정이다.[7.5m...   \n15572      (주)삼양홀딩스  [25mg|20mg|15mg|10mg]이약은연한노란색의장방형필름코팅정이다.[7.5m...   \n15573      (주)삼양홀딩스  [25mg|20mg|15mg|10mg]이약은연한노란색의장방형필름코팅정이다.[7.5m...   \n16327       신일제약(주)  젠스트린트로키(멘톨앤페퍼민트향):멘톨향과페퍼민트향이나는흰색내지미백색의원형트로키젠스트...   \n16876       신일제약(주)  젠스트린트로키(멘톨앤페퍼민트향):멘톨향과페퍼민트향이나는흰색내지미백색의원형트로키젠스트...   \n25133   (유)한국비엠에스제약  0.23mg:흰색내지연한노란색의가루가든상하부회색의불투명한캡슐0.46mg:흰색내지연한...   \n25134   (유)한국비엠에스제약  0.23mg:흰색내지연한노란색의가루가든상하부회색의불투명한캡슐0.46mg:흰색내지연한...   \n\n                                                  큰제품이미지         표시앞  \\\n194    https://nedrug.mfds.go.kr/pbp/cmn/itemImageDow...          마크   \n411    https://nedrug.mfds.go.kr/pbp/cmn/itemImageDow...          마크   \n1833   https://nedrug.mfds.go.kr/pbp/cmn/itemImageDow...       GSEE1   \n1834   https://nedrug.mfds.go.kr/pbp/cmn/itemImageDow...       GSEE5   \n1835   https://nedrug.mfds.go.kr/pbp/cmn/itemImageDow...       GSEC7   \n6027   https://nedrug.mfds.go.kr/pbp/cmn/itemImageDow...          HR   \n6036   https://nedrug.mfds.go.kr/pbp/cmn/itemImageDow...        FT40   \n7011   https://nedrug.mfds.go.kr/pbp/cmn/itemImageDow...       B분할선K   \n7012   https://nedrug.mfds.go.kr/pbp/cmn/itemImageDow...          BK   \n7226   https://nedrug.mfds.go.kr/pbp/cmn/itemImageDow...        FT20   \n7347   https://nedrug.mfds.go.kr/pbp/cmn/itemImageDow...          HR   \n7349   https://nedrug.mfds.go.kr/pbp/cmn/itemImageDow...  TC442TC442   \n7350   https://nedrug.mfds.go.kr/pbp/cmn/itemImageDow...  TC443TC443   \n14748  https://nedrug.mfds.go.kr/pbp/cmn/itemImageDow...   ZENSTRYNP   \n15567  https://nedrug.mfds.go.kr/pbp/cmn/itemImageDow...          SY   \n15568  https://nedrug.mfds.go.kr/pbp/cmn/itemImageDow...          SY   \n15569  https://nedrug.mfds.go.kr/pbp/cmn/itemImageDow...          SY   \n15570  https://nedrug.mfds.go.kr/pbp/cmn/itemImageDow...          S7   \n15571  https://nedrug.mfds.go.kr/pbp/cmn/itemImageDow...          S5   \n15572  https://nedrug.mfds.go.kr/pbp/cmn/itemImageDow...          SY   \n15573  https://nedrug.mfds.go.kr/pbp/cmn/itemImageDow...          S2   \n16327  https://nedrug.mfds.go.kr/pbp/cmn/itemImageDow...   ZENSTRYNP   \n16876  https://nedrug.mfds.go.kr/pbp/cmn/itemImageDow...   ZENSTRYNL   \n25133  https://nedrug.mfds.go.kr/pbp/cmn/itemImageDow...   OZA0.23mg   \n25134  https://nedrug.mfds.go.kr/pbp/cmn/itemImageDow...   OZA0.46mg   \n\n             표시뒤 의약품제형 색상앞  ...    품목허가일자     제형코드명 표기내용앞 표기내용뒤  \\\n194           L2    원형  하양  ...  20090826        나정   川|≡     -   \n411           L4    원형  하양  ...  20090826        나정   川|≡     -   \n1833          50   사각형  노랑  ...  20021230        나정     -     -   \n1834         100   사각형  노랑  ...  20021230        나정     -     -   \n1835          25   사각형  노랑  ...  20021230        나정     -     -   \n6027           -   장방형  연두  ...  20020311     필름코팅정     -     -   \n6036           -    원형  하양  ...  20021126     필름코팅정     -     -   \n7011          10   장방형  하양  ...  20040214        나정     -     -   \n7012           5   장방형  하양  ...  20040214        나정     -     -   \n7226           -    원형  하양  ...  20021126     필름코팅정     -     -   \n7347           -    원형  초록  ...  20020311     필름코팅정     -     -   \n7349           -   장방형  하양  ...  20030729  경질캡슐제|산제     -     -   \n7350           -   장방형  주황  ...  20030729  경질캡슐제|산제     -     -   \n14748  ZENSTRYNP    원형  하양  ...  20151028      트로키제     -     -   \n15567         25   장방형  노랑  ...  20170814     필름코팅정     -     -   \n15568         20   장방형  노랑  ...  20170814     필름코팅정     -     -   \n15569         15   장방형  노랑  ...  20170814     필름코팅정     -     -   \n15570          -    원형  노랑  ...  20170814     필름코팅정     -     -   \n15571          -    원형  노랑  ...  20170814     필름코팅정     -     -   \n15572         10   장방형  노랑  ...  20170814     필름코팅정     -     -   \n15573          -    원형  노랑  ...  20170814     필름코팅정     -     -   \n16327  ZENSTRYNP    원형  하양  ...  20151028      트로키제     -     -   \n16876  ZENSTRYNL    원형  하양  ...  20151028      트로키제     -     -   \n25133          -   장방형  회색  ...  20230223  경질캡슐제|산제     -     -   \n25134          -   장방형  주황  ...  20230223  경질캡슐제|산제     -     -   \n\n                                                  표기이미지앞 표기이미지뒤  표기코드앞 표기코드뒤  \\\n194    https://nedrug.mfds.go.kr/pbp/cmn/itemImageDow...      -  r0008     -   \n411    https://nedrug.mfds.go.kr/pbp/cmn/itemImageDow...      -  r0008     -   \n1833                                                   -      -      -     -   \n1834                                                   -      -      -     -   \n1835                                                   -      -      -     -   \n6027                                                   -      -      -     -   \n6036                                                   -      -      -     -   \n7011                                                   -      -      -     -   \n7012                                                   -      -      -     -   \n7226                                                   -      -      -     -   \n7347                                                   -      -      -     -   \n7349                                                   -      -      -     -   \n7350                                                   -      -      -     -   \n14748                                                  -      -      -     -   \n15567                                                  -      -      -     -   \n15568                                                  -      -      -     -   \n15569                                                  -      -      -     -   \n15570                                                  -      -      -     -   \n15571                                                  -      -      -     -   \n15572                                                  -      -      -     -   \n15573                                                  -      -      -     -   \n16327                                                  -      -      -     -   \n16876                                                  -      -      -     -   \n25133                                                  -      -      -     -   \n25134                                                  -      -      -     -   \n\n           변경일자       사업자번호  \n194    20220608  1188100450  \n411    20220608  1188100450  \n1833   20211108  1068156683  \n1834   20211108  1068156683  \n1835   20211108  1068156683  \n6027   20191202  1188100450  \n6036   20130913  3038117108  \n7011   20220517  1188100450  \n7012   20220517  1188100450  \n7226   20130913  3038117108  \n7347   20191202  1188100450  \n7349   20220630  2428500620  \n7350   20220630  2428500620  \n14748  20180704  3038113742  \n15567  20230707  6648501703  \n15568  20230707  6648501703  \n15569  20230707  6648501703  \n15570  20230707  6648501703  \n15571  20230707  6648501703  \n15572  20230707  6648501703  \n15573  20230707  6648501703  \n16327  20180704  3038113742  \n16876  20180704  3038113742  \n25133  20231128  1238100239  \n25134  20231128  1238100239  \n\n[25 rows x 30 columns]",
      "text/html": "<div>\n<style scoped>\n    .dataframe tbody tr th:only-of-type {\n        vertical-align: middle;\n    }\n\n    .dataframe tbody tr th {\n        vertical-align: top;\n    }\n\n    .dataframe thead th {\n        text-align: right;\n    }\n</style>\n<table border=\"1\" class=\"dataframe\">\n  <thead>\n    <tr style=\"text-align: right;\">\n      <th></th>\n      <th>품목일련번호</th>\n      <th>품목명</th>\n      <th>업소일련번호</th>\n      <th>업소명</th>\n      <th>성상</th>\n      <th>큰제품이미지</th>\n      <th>표시앞</th>\n      <th>표시뒤</th>\n      <th>의약품제형</th>\n      <th>색상앞</th>\n      <th>...</th>\n      <th>품목허가일자</th>\n      <th>제형코드명</th>\n      <th>표기내용앞</th>\n      <th>표기내용뒤</th>\n      <th>표기이미지앞</th>\n      <th>표기이미지뒤</th>\n      <th>표기코드앞</th>\n      <th>표기코드뒤</th>\n      <th>변경일자</th>\n      <th>사업자번호</th>\n    </tr>\n  </thead>\n  <tbody>\n    <tr>\n      <th>194</th>\n      <td>200906540</td>\n      <td>로나센정2밀리그램(블로난세린)/로나센정4밀리그램(블로난세린)</td>\n      <td>19630001</td>\n      <td>부광약품(주)</td>\n      <td>흰색의원형정제</td>\n      <td>https://nedrug.mfds.go.kr/pbp/cmn/itemImageDow...</td>\n      <td>마크</td>\n      <td>L2</td>\n      <td>원형</td>\n      <td>하양</td>\n      <td>...</td>\n      <td>20090826</td>\n      <td>나정</td>\n      <td>川|≡</td>\n      <td>-</td>\n      <td>https://nedrug.mfds.go.kr/pbp/cmn/itemImageDow...</td>\n      <td>-</td>\n      <td>r0008</td>\n      <td>-</td>\n      <td>20220608</td>\n      <td>1188100450</td>\n    </tr>\n    <tr>\n      <th>411</th>\n      <td>200906540</td>\n      <td>로나센정2밀리그램(블로난세린)/로나센정4밀리그램(블로난세린)</td>\n      <td>19630001</td>\n      <td>부광약품(주)</td>\n      <td>흰색의원형정제</td>\n      <td>https://nedrug.mfds.go.kr/pbp/cmn/itemImageDow...</td>\n      <td>마크</td>\n      <td>L4</td>\n      <td>원형</td>\n      <td>하양</td>\n      <td>...</td>\n      <td>20090826</td>\n      <td>나정</td>\n      <td>川|≡</td>\n      <td>-</td>\n      <td>https://nedrug.mfds.go.kr/pbp/cmn/itemImageDow...</td>\n      <td>-</td>\n      <td>r0008</td>\n      <td>-</td>\n      <td>20220608</td>\n      <td>1188100450</td>\n    </tr>\n    <tr>\n      <th>1833</th>\n      <td>200209641</td>\n      <td>라믹탈정25밀리그램|50밀리그램|100밀리그램(라모트리진)</td>\n      <td>20161652</td>\n      <td>(주)글락소스미스클라인</td>\n      <td>엷은황갈색의정방형정제</td>\n      <td>https://nedrug.mfds.go.kr/pbp/cmn/itemImageDow...</td>\n      <td>GSEE1</td>\n      <td>50</td>\n      <td>사각형</td>\n      <td>노랑</td>\n      <td>...</td>\n      <td>20021230</td>\n      <td>나정</td>\n      <td>-</td>\n      <td>-</td>\n      <td>-</td>\n      <td>-</td>\n      <td>-</td>\n      <td>-</td>\n      <td>20211108</td>\n      <td>1068156683</td>\n    </tr>\n    <tr>\n      <th>1834</th>\n      <td>200209641</td>\n      <td>라믹탈정25밀리그램|50밀리그램|100밀리그램(라모트리진)</td>\n      <td>20161652</td>\n      <td>(주)글락소스미스클라인</td>\n      <td>엷은황갈색의정방형정제</td>\n      <td>https://nedrug.mfds.go.kr/pbp/cmn/itemImageDow...</td>\n      <td>GSEE5</td>\n      <td>100</td>\n      <td>사각형</td>\n      <td>노랑</td>\n      <td>...</td>\n      <td>20021230</td>\n      <td>나정</td>\n      <td>-</td>\n      <td>-</td>\n      <td>-</td>\n      <td>-</td>\n      <td>-</td>\n      <td>-</td>\n      <td>20211108</td>\n      <td>1068156683</td>\n    </tr>\n    <tr>\n      <th>1835</th>\n      <td>200209641</td>\n      <td>라믹탈정25밀리그램|50밀리그램|100밀리그램(라모트리진)</td>\n      <td>20161652</td>\n      <td>(주)글락소스미스클라인</td>\n      <td>엷은황갈색의정방형정제</td>\n      <td>https://nedrug.mfds.go.kr/pbp/cmn/itemImageDow...</td>\n      <td>GSEC7</td>\n      <td>25</td>\n      <td>사각형</td>\n      <td>노랑</td>\n      <td>...</td>\n      <td>20021230</td>\n      <td>나정</td>\n      <td>-</td>\n      <td>-</td>\n      <td>-</td>\n      <td>-</td>\n      <td>-</td>\n      <td>-</td>\n      <td>20211108</td>\n      <td>1068156683</td>\n    </tr>\n    <tr>\n      <th>6027</th>\n      <td>200201478</td>\n      <td>치옥타시드에이취알정200|600밀리그램(티옥트산)</td>\n      <td>19630001</td>\n      <td>부광약품(주)</td>\n      <td>200밀리그람:밝은녹색의양쪽이볼록한원형필름코팅정600밀리그람:황녹색의양쪽이볼록한장방...</td>\n      <td>https://nedrug.mfds.go.kr/pbp/cmn/itemImageDow...</td>\n      <td>HR</td>\n      <td>-</td>\n      <td>장방형</td>\n      <td>연두</td>\n      <td>...</td>\n      <td>20020311</td>\n      <td>필름코팅정</td>\n      <td>-</td>\n      <td>-</td>\n      <td>-</td>\n      <td>-</td>\n      <td>-</td>\n      <td>-</td>\n      <td>20191202</td>\n      <td>1188100450</td>\n    </tr>\n    <tr>\n      <th>6036</th>\n      <td>200202793</td>\n      <td>핀테정(에포니디핀염산염)</td>\n      <td>19910005</td>\n      <td>(주)녹십자</td>\n      <td>백색또는미황백색의원형필름코팅정이다</td>\n      <td>https://nedrug.mfds.go.kr/pbp/cmn/itemImageDow...</td>\n      <td>FT40</td>\n      <td>-</td>\n      <td>원형</td>\n      <td>하양</td>\n      <td>...</td>\n      <td>20021126</td>\n      <td>필름코팅정</td>\n      <td>-</td>\n      <td>-</td>\n      <td>-</td>\n      <td>-</td>\n      <td>-</td>\n      <td>-</td>\n      <td>20130913</td>\n      <td>3038117108</td>\n    </tr>\n    <tr>\n      <th>7011</th>\n      <td>200401818</td>\n      <td>부스론정5밀리그램|10밀리그램(부스피론염산염)</td>\n      <td>19630001</td>\n      <td>부광약품(주)</td>\n      <td>양면볼록한장방형의백색정제</td>\n      <td>https://nedrug.mfds.go.kr/pbp/cmn/itemImageDow...</td>\n      <td>B분할선K</td>\n      <td>10</td>\n      <td>장방형</td>\n      <td>하양</td>\n      <td>...</td>\n      <td>20040214</td>\n      <td>나정</td>\n      <td>-</td>\n      <td>-</td>\n      <td>-</td>\n      <td>-</td>\n      <td>-</td>\n      <td>-</td>\n      <td>20220517</td>\n      <td>1188100450</td>\n    </tr>\n    <tr>\n      <th>7012</th>\n      <td>200401818</td>\n      <td>부스론정5밀리그램|10밀리그램(부스피론염산염)</td>\n      <td>19630001</td>\n      <td>부광약품(주)</td>\n      <td>양면볼록한장방형의백색정제</td>\n      <td>https://nedrug.mfds.go.kr/pbp/cmn/itemImageDow...</td>\n      <td>BK</td>\n      <td>5</td>\n      <td>장방형</td>\n      <td>하양</td>\n      <td>...</td>\n      <td>20040214</td>\n      <td>나정</td>\n      <td>-</td>\n      <td>-</td>\n      <td>-</td>\n      <td>-</td>\n      <td>-</td>\n      <td>-</td>\n      <td>20220517</td>\n      <td>1188100450</td>\n    </tr>\n    <tr>\n      <th>7226</th>\n      <td>200202793</td>\n      <td>핀테정(에포니디핀염산염)</td>\n      <td>19910005</td>\n      <td>(주)녹십자</td>\n      <td>백색또는미황백색의원형필름코팅정이다</td>\n      <td>https://nedrug.mfds.go.kr/pbp/cmn/itemImageDow...</td>\n      <td>FT20</td>\n      <td>-</td>\n      <td>원형</td>\n      <td>하양</td>\n      <td>...</td>\n      <td>20021126</td>\n      <td>필름코팅정</td>\n      <td>-</td>\n      <td>-</td>\n      <td>-</td>\n      <td>-</td>\n      <td>-</td>\n      <td>-</td>\n      <td>20130913</td>\n      <td>3038117108</td>\n    </tr>\n    <tr>\n      <th>7347</th>\n      <td>200201478</td>\n      <td>치옥타시드에이취알정200|600밀리그램(티옥트산)</td>\n      <td>19630001</td>\n      <td>부광약품(주)</td>\n      <td>200밀리그람:밝은녹색의양쪽이볼록한원형필름코팅정600밀리그람:황녹색의양쪽이볼록한장방...</td>\n      <td>https://nedrug.mfds.go.kr/pbp/cmn/itemImageDow...</td>\n      <td>HR</td>\n      <td>-</td>\n      <td>원형</td>\n      <td>초록</td>\n      <td>...</td>\n      <td>20020311</td>\n      <td>필름코팅정</td>\n      <td>-</td>\n      <td>-</td>\n      <td>-</td>\n      <td>-</td>\n      <td>-</td>\n      <td>-</td>\n      <td>20191202</td>\n      <td>1188100450</td>\n    </tr>\n    <tr>\n      <th>7349</th>\n      <td>200300393</td>\n      <td>티에스원캡슐20|25</td>\n      <td>19860002</td>\n      <td>제일약품(주)</td>\n      <td>티에스원캡슐20:백색의분말및입자를함유한백색의불투명한경질캡슐제이다.티에스원캡슐25:백...</td>\n      <td>https://nedrug.mfds.go.kr/pbp/cmn/itemImageDow...</td>\n      <td>TC442TC442</td>\n      <td>-</td>\n      <td>장방형</td>\n      <td>하양</td>\n      <td>...</td>\n      <td>20030729</td>\n      <td>경질캡슐제|산제</td>\n      <td>-</td>\n      <td>-</td>\n      <td>-</td>\n      <td>-</td>\n      <td>-</td>\n      <td>-</td>\n      <td>20220630</td>\n      <td>2428500620</td>\n    </tr>\n    <tr>\n      <th>7350</th>\n      <td>200300393</td>\n      <td>티에스원캡슐20|25</td>\n      <td>19860002</td>\n      <td>제일약품(주)</td>\n      <td>티에스원캡슐20:백색의분말및입자를함유한백색의불투명한경질캡슐제이다.티에스원캡슐25:백...</td>\n      <td>https://nedrug.mfds.go.kr/pbp/cmn/itemImageDow...</td>\n      <td>TC443TC443</td>\n      <td>-</td>\n      <td>장방형</td>\n      <td>주황</td>\n      <td>...</td>\n      <td>20030729</td>\n      <td>경질캡슐제|산제</td>\n      <td>-</td>\n      <td>-</td>\n      <td>-</td>\n      <td>-</td>\n      <td>-</td>\n      <td>-</td>\n      <td>20220630</td>\n      <td>2428500620</td>\n    </tr>\n    <tr>\n      <th>14748</th>\n      <td>201507425</td>\n      <td>젠스트린트로키(멘톨앤페퍼민트향|페퍼민트향|레몬향|복숭아향)(플루르비프로펜)</td>\n      <td>19560015</td>\n      <td>신일제약(주)</td>\n      <td>젠스트린트로키(멘톨앤페퍼민트향):멘톨향과페퍼민트향이나는흰색내지미백색의원형트로키젠스트...</td>\n      <td>https://nedrug.mfds.go.kr/pbp/cmn/itemImageDow...</td>\n      <td>ZENSTRYNP</td>\n      <td>ZENSTRYNP</td>\n      <td>원형</td>\n      <td>하양</td>\n      <td>...</td>\n      <td>20151028</td>\n      <td>트로키제</td>\n      <td>-</td>\n      <td>-</td>\n      <td>-</td>\n      <td>-</td>\n      <td>-</td>\n      <td>-</td>\n      <td>20180704</td>\n      <td>3038113742</td>\n    </tr>\n    <tr>\n      <th>15567</th>\n      <td>201706587</td>\n      <td>레날리드정(레날리도마이드)</td>\n      <td>19950019</td>\n      <td>(주)삼양홀딩스</td>\n      <td>[25mg|20mg|15mg|10mg]이약은연한노란색의장방형필름코팅정이다.[7.5m...</td>\n      <td>https://nedrug.mfds.go.kr/pbp/cmn/itemImageDow...</td>\n      <td>SY</td>\n      <td>25</td>\n      <td>장방형</td>\n      <td>노랑</td>\n      <td>...</td>\n      <td>20170814</td>\n      <td>필름코팅정</td>\n      <td>-</td>\n      <td>-</td>\n      <td>-</td>\n      <td>-</td>\n      <td>-</td>\n      <td>-</td>\n      <td>20230707</td>\n      <td>6648501703</td>\n    </tr>\n    <tr>\n      <th>15568</th>\n      <td>201706587</td>\n      <td>레날리드정(레날리도마이드)</td>\n      <td>19950019</td>\n      <td>(주)삼양홀딩스</td>\n      <td>[25mg|20mg|15mg|10mg]이약은연한노란색의장방형필름코팅정이다.[7.5m...</td>\n      <td>https://nedrug.mfds.go.kr/pbp/cmn/itemImageDow...</td>\n      <td>SY</td>\n      <td>20</td>\n      <td>장방형</td>\n      <td>노랑</td>\n      <td>...</td>\n      <td>20170814</td>\n      <td>필름코팅정</td>\n      <td>-</td>\n      <td>-</td>\n      <td>-</td>\n      <td>-</td>\n      <td>-</td>\n      <td>-</td>\n      <td>20230707</td>\n      <td>6648501703</td>\n    </tr>\n    <tr>\n      <th>15569</th>\n      <td>201706587</td>\n      <td>레날리드정(레날리도마이드)</td>\n      <td>19950019</td>\n      <td>(주)삼양홀딩스</td>\n      <td>[25mg|20mg|15mg|10mg]이약은연한노란색의장방형필름코팅정이다.[7.5m...</td>\n      <td>https://nedrug.mfds.go.kr/pbp/cmn/itemImageDow...</td>\n      <td>SY</td>\n      <td>15</td>\n      <td>장방형</td>\n      <td>노랑</td>\n      <td>...</td>\n      <td>20170814</td>\n      <td>필름코팅정</td>\n      <td>-</td>\n      <td>-</td>\n      <td>-</td>\n      <td>-</td>\n      <td>-</td>\n      <td>-</td>\n      <td>20230707</td>\n      <td>6648501703</td>\n    </tr>\n    <tr>\n      <th>15570</th>\n      <td>201706587</td>\n      <td>레날리드정(레날리도마이드)</td>\n      <td>19950019</td>\n      <td>(주)삼양홀딩스</td>\n      <td>[25mg|20mg|15mg|10mg]이약은연한노란색의장방형필름코팅정이다.[7.5m...</td>\n      <td>https://nedrug.mfds.go.kr/pbp/cmn/itemImageDow...</td>\n      <td>S7</td>\n      <td>-</td>\n      <td>원형</td>\n      <td>노랑</td>\n      <td>...</td>\n      <td>20170814</td>\n      <td>필름코팅정</td>\n      <td>-</td>\n      <td>-</td>\n      <td>-</td>\n      <td>-</td>\n      <td>-</td>\n      <td>-</td>\n      <td>20230707</td>\n      <td>6648501703</td>\n    </tr>\n    <tr>\n      <th>15571</th>\n      <td>201706587</td>\n      <td>레날리드정(레날리도마이드)</td>\n      <td>19950019</td>\n      <td>(주)삼양홀딩스</td>\n      <td>[25mg|20mg|15mg|10mg]이약은연한노란색의장방형필름코팅정이다.[7.5m...</td>\n      <td>https://nedrug.mfds.go.kr/pbp/cmn/itemImageDow...</td>\n      <td>S5</td>\n      <td>-</td>\n      <td>원형</td>\n      <td>노랑</td>\n      <td>...</td>\n      <td>20170814</td>\n      <td>필름코팅정</td>\n      <td>-</td>\n      <td>-</td>\n      <td>-</td>\n      <td>-</td>\n      <td>-</td>\n      <td>-</td>\n      <td>20230707</td>\n      <td>6648501703</td>\n    </tr>\n    <tr>\n      <th>15572</th>\n      <td>201706587</td>\n      <td>레날리드정(레날리도마이드)</td>\n      <td>19950019</td>\n      <td>(주)삼양홀딩스</td>\n      <td>[25mg|20mg|15mg|10mg]이약은연한노란색의장방형필름코팅정이다.[7.5m...</td>\n      <td>https://nedrug.mfds.go.kr/pbp/cmn/itemImageDow...</td>\n      <td>SY</td>\n      <td>10</td>\n      <td>장방형</td>\n      <td>노랑</td>\n      <td>...</td>\n      <td>20170814</td>\n      <td>필름코팅정</td>\n      <td>-</td>\n      <td>-</td>\n      <td>-</td>\n      <td>-</td>\n      <td>-</td>\n      <td>-</td>\n      <td>20230707</td>\n      <td>6648501703</td>\n    </tr>\n    <tr>\n      <th>15573</th>\n      <td>201706587</td>\n      <td>레날리드정(레날리도마이드)</td>\n      <td>19950019</td>\n      <td>(주)삼양홀딩스</td>\n      <td>[25mg|20mg|15mg|10mg]이약은연한노란색의장방형필름코팅정이다.[7.5m...</td>\n      <td>https://nedrug.mfds.go.kr/pbp/cmn/itemImageDow...</td>\n      <td>S2</td>\n      <td>-</td>\n      <td>원형</td>\n      <td>노랑</td>\n      <td>...</td>\n      <td>20170814</td>\n      <td>필름코팅정</td>\n      <td>-</td>\n      <td>-</td>\n      <td>-</td>\n      <td>-</td>\n      <td>-</td>\n      <td>-</td>\n      <td>20230707</td>\n      <td>6648501703</td>\n    </tr>\n    <tr>\n      <th>16327</th>\n      <td>201507425</td>\n      <td>젠스트린트로키(멘톨앤페퍼민트향|페퍼민트향|레몬향|복숭아향)(플루르비프로펜)</td>\n      <td>19560015</td>\n      <td>신일제약(주)</td>\n      <td>젠스트린트로키(멘톨앤페퍼민트향):멘톨향과페퍼민트향이나는흰색내지미백색의원형트로키젠스트...</td>\n      <td>https://nedrug.mfds.go.kr/pbp/cmn/itemImageDow...</td>\n      <td>ZENSTRYNP</td>\n      <td>ZENSTRYNP</td>\n      <td>원형</td>\n      <td>하양</td>\n      <td>...</td>\n      <td>20151028</td>\n      <td>트로키제</td>\n      <td>-</td>\n      <td>-</td>\n      <td>-</td>\n      <td>-</td>\n      <td>-</td>\n      <td>-</td>\n      <td>20180704</td>\n      <td>3038113742</td>\n    </tr>\n    <tr>\n      <th>16876</th>\n      <td>201507425</td>\n      <td>젠스트린트로키(멘톨앤페퍼민트향|페퍼민트향|레몬향|복숭아향)(플루르비프로펜)</td>\n      <td>19560015</td>\n      <td>신일제약(주)</td>\n      <td>젠스트린트로키(멘톨앤페퍼민트향):멘톨향과페퍼민트향이나는흰색내지미백색의원형트로키젠스트...</td>\n      <td>https://nedrug.mfds.go.kr/pbp/cmn/itemImageDow...</td>\n      <td>ZENSTRYNL</td>\n      <td>ZENSTRYNL</td>\n      <td>원형</td>\n      <td>하양</td>\n      <td>...</td>\n      <td>20151028</td>\n      <td>트로키제</td>\n      <td>-</td>\n      <td>-</td>\n      <td>-</td>\n      <td>-</td>\n      <td>-</td>\n      <td>-</td>\n      <td>20180704</td>\n      <td>3038113742</td>\n    </tr>\n    <tr>\n      <th>25133</th>\n      <td>202300676</td>\n      <td>제포시아캡슐스타터팩0.23밀리그램/0.46밀리그램(오자니모드염산염)</td>\n      <td>20162212</td>\n      <td>(유)한국비엠에스제약</td>\n      <td>0.23mg:흰색내지연한노란색의가루가든상하부회색의불투명한캡슐0.46mg:흰색내지연한...</td>\n      <td>https://nedrug.mfds.go.kr/pbp/cmn/itemImageDow...</td>\n      <td>OZA0.23mg</td>\n      <td>-</td>\n      <td>장방형</td>\n      <td>회색</td>\n      <td>...</td>\n      <td>20230223</td>\n      <td>경질캡슐제|산제</td>\n      <td>-</td>\n      <td>-</td>\n      <td>-</td>\n      <td>-</td>\n      <td>-</td>\n      <td>-</td>\n      <td>20231128</td>\n      <td>1238100239</td>\n    </tr>\n    <tr>\n      <th>25134</th>\n      <td>202300676</td>\n      <td>제포시아캡슐스타터팩0.23밀리그램/0.46밀리그램(오자니모드염산염)</td>\n      <td>20162212</td>\n      <td>(유)한국비엠에스제약</td>\n      <td>0.23mg:흰색내지연한노란색의가루가든상하부회색의불투명한캡슐0.46mg:흰색내지연한...</td>\n      <td>https://nedrug.mfds.go.kr/pbp/cmn/itemImageDow...</td>\n      <td>OZA0.46mg</td>\n      <td>-</td>\n      <td>장방형</td>\n      <td>주황</td>\n      <td>...</td>\n      <td>20230223</td>\n      <td>경질캡슐제|산제</td>\n      <td>-</td>\n      <td>-</td>\n      <td>-</td>\n      <td>-</td>\n      <td>-</td>\n      <td>-</td>\n      <td>20231128</td>\n      <td>1238100239</td>\n    </tr>\n  </tbody>\n</table>\n<p>25 rows × 30 columns</p>\n</div>"
     },
     "execution_count": 67,
     "metadata": {},
     "output_type": "execute_result"
    }
   ],
   "source": [
    "# 품목일련번호 2개 이상인 row visualize\n",
    "dataset_tmp = dataset[\"train\"].to_pandas()\n",
    "dataset_tmp = dataset_tmp.groupby('품목일련번호').count()\n",
    "dataset_tmp = dataset_tmp[dataset_tmp['품목명'] > 1]\n",
    "duplicate_lit = list(dataset_tmp.index)\n",
    "\n",
    "dataset_tmp = dataset[\"train\"].to_pandas()\n",
    "dataset_tmp = dataset_tmp[dataset_tmp['품목일련번호'].isin(duplicate_lit)]\n",
    "dataset_tmp"
   ],
   "metadata": {
    "collapsed": false,
    "ExecuteTime": {
     "end_time": "2024-01-07T08:10:11.247096Z",
     "start_time": "2024-01-07T08:10:11.160737Z"
    }
   },
   "id": "94fb1fd2d57e672c",
   "execution_count": 67
  },
  {
   "cell_type": "code",
   "outputs": [
    {
     "data": {
      "text/plain": "Dataset({\n    features: ['품목일련번호', '크기장축', '크기단축', '크기두께'],\n    num_rows: 25221\n})"
     },
     "execution_count": 2,
     "metadata": {},
     "output_type": "execute_result"
    }
   ],
   "source": [
    "dataset = dataset[\"train\"]\n",
    "dataset = dataset.select_columns(['품목일련번호', '크기장축', '크기단축', '크기두께'])\n",
    "\n",
    "\n",
    "# Drop 품목명 == '보넥실캅셀<소브레롤>'\n",
    "def drop_not_float(example):\n",
    "    \"\"\"\n",
    "    크기장축, 크기단축, 크기두께가 float으로 변환 가능한지 확인\n",
    "    :param example: \n",
    "    :return: \n",
    "    \"\"\"\n",
    "    try:\n",
    "        float(example[\"크기장축\"])\n",
    "        float(example[\"크기단축\"])\n",
    "        float(example[\"크기두께\"])\n",
    "        return True\n",
    "    except ValueError:\n",
    "        return False\n",
    "\n",
    "\n",
    "dataset = dataset.filter(drop_not_float)\n",
    "dataset"
   ],
   "metadata": {
    "collapsed": false,
    "ExecuteTime": {
     "end_time": "2024-01-04T04:09:50.001076Z",
     "start_time": "2024-01-04T04:09:49.996541Z"
    }
   },
   "id": "ef77e3f2e8487506",
   "execution_count": 2
  },
  {
   "cell_type": "code",
   "outputs": [
    {
     "data": {
      "text/plain": "Map (num_proc=7):   0%|          | 0/25221 [00:00<?, ? examples/s]",
      "application/vnd.jupyter.widget-view+json": {
       "version_major": 2,
       "version_minor": 0,
       "model_id": "c3532d3fc63d4ce399c53bf91182bdee"
      }
     },
     "metadata": {},
     "output_type": "display_data"
    }
   ],
   "source": [
    "# dtype str to int\n",
    "dataset = dataset.map(\n",
    "    lambda example: {\n",
    "        \"크기장축\": np.asarray(example[\"크기장축\"]).astype(np.float64),\n",
    "        \"크기단축\": np.asarray(example[\"크기단축\"]).astype(np.float64),\n",
    "        \"크기두께\": np.asarray(example[\"크기두께\"]).astype(np.float64),\n",
    "    },\n",
    "    num_proc=7,\n",
    "    batched=True,\n",
    "    batch_size=1000,\n",
    "    keep_in_memory=True,\n",
    ")"
   ],
   "metadata": {
    "collapsed": false,
    "ExecuteTime": {
     "end_time": "2024-01-04T04:09:50.635344Z",
     "start_time": "2024-01-04T04:09:50.002021Z"
    }
   },
   "id": "be5387e3b55b7718",
   "execution_count": 3
  },
  {
   "cell_type": "code",
   "outputs": [],
   "source": [
    "# Node: 품목일련번호: 식품의약품안전처 약품식별정보및 상세정보 보기 원료약품 및 분량, 효능효과, 사용상의주의사항,재심사, RMP, 보험, 기타정보, 생산실적\n",
    "# Edge: 크기장축, 크기단축, 크기두께를 고려한 상대적 부피\n",
    "\n",
    "# 부피\n",
    "dataset = dataset.add_column(name=\"크기\", column=list(np.asarray(dataset[\"크기장축\"]) * np.asarray(dataset[\"크기단축\"])))"
   ],
   "metadata": {
    "collapsed": false,
    "ExecuteTime": {
     "end_time": "2024-01-04T04:09:51.062444Z",
     "start_time": "2024-01-04T04:09:50.636546Z"
    }
   },
   "id": "b33ab4896ff9f225",
   "execution_count": 4
  },
  {
   "cell_type": "code",
   "outputs": [
    {
     "data": {
      "text/plain": "['품목일련번호', '크기장축', '크기단축', '크기두께', '크기']"
     },
     "execution_count": 5,
     "metadata": {},
     "output_type": "execute_result"
    }
   ],
   "source": [
    "dataset.column_names"
   ],
   "metadata": {
    "collapsed": false,
    "ExecuteTime": {
     "end_time": "2024-01-04T04:09:51.066548Z",
     "start_time": "2024-01-04T04:09:51.062790Z"
    }
   },
   "id": "46ec65a859dc7ba6",
   "execution_count": 5
  },
  {
   "cell_type": "code",
   "outputs": [
    {
     "data": {
      "text/plain": "  0%|          | 0/25221 [00:00<?, ?it/s]",
      "application/vnd.jupyter.widget-view+json": {
       "version_major": 2,
       "version_minor": 0,
       "model_id": "b6c9b6a6a00a43c18e83afbd815440c8"
      }
     },
     "metadata": {},
     "output_type": "display_data"
    },
    {
     "data": {
      "text/plain": "  0%|          | 0/25221 [00:00<?, ?it/s]",
      "application/vnd.jupyter.widget-view+json": {
       "version_major": 2,
       "version_minor": 0,
       "model_id": "398288544c124d91a0de42b6eeb89fa9"
      }
     },
     "metadata": {},
     "output_type": "display_data"
    }
   ],
   "source": [
    "from tqdm.notebook import tqdm\n",
    "from networkx import Graph\n",
    "\n",
    "G = Graph()\n",
    "\n",
    "# dataset = dataset.shard(num_shards=100, index=0).to_pandas()\n",
    "\n",
    "# '크기' 열의 값들을 리스트로 추출\n",
    "size_list = dataset['크기']\n",
    "\n",
    "# 가정: '품목일련번호' 열의 값들이 리스트로 주어짐\n",
    "item_numbers = dataset['품목일련번호']\n",
    "\n",
    "# 노드 추가\n",
    "for item in tqdm(item_numbers):\n",
    "    G.add_node(item)\n",
    "\n",
    "edge_count = {item: 0 for item in item_numbers}\n",
    "\n",
    "# 엣지 추가\n",
    "for i, item_i in tqdm(enumerate(item_numbers), total=len(item_numbers)):\n",
    "    for j, item_j in enumerate(item_numbers):\n",
    "        if item_i != item_j and edge_count[item_i] < 3:\n",
    "            # 여기서 size_list를 사용하여 가중치를 계산합니다.\n",
    "            # size_list가 0인 경우를 처리하기 위한 조건문을 추가할 수 있습니다.\n",
    "            weight = size_list[i] / size_list[j] if size_list[j] != 0 else 0\n",
    "            G.add_edge(item_i, item_j, weight=weight)\n",
    "            edge_count[item_i] += 1  # 에지 수 업데이트"
   ],
   "metadata": {
    "collapsed": false,
    "ExecuteTime": {
     "end_time": "2024-01-04T04:10:38.093742Z",
     "start_time": "2024-01-04T04:09:51.066490Z"
    }
   },
   "id": "ac32513bb9cbf1fa",
   "execution_count": 6
  },
  {
   "cell_type": "code",
   "outputs": [
    {
     "name": "stdout",
     "output_type": "stream",
     "text": [
      "Warning: When  cdn_resources is 'local' jupyter notebook has issues displaying graphics on chrome/safari. Use cdn_resources='in_line' or cdn_resources='remote' if you have issues viewing graphics in a notebook.\n"
     ]
    },
    {
     "ename": "AttributeError",
     "evalue": "'NoneType' object has no attribute 'write_html'",
     "output_type": "error",
     "traceback": [
      "\u001B[0;31m---------------------------------------------------------------------------\u001B[0m",
      "\u001B[0;31mAttributeError\u001B[0m                            Traceback (most recent call last)",
      "Cell \u001B[0;32mIn[11], line 6\u001B[0m\n\u001B[1;32m      4\u001B[0m net \u001B[38;5;241m=\u001B[39m Network(notebook\u001B[38;5;241m=\u001B[39m\u001B[38;5;28;01mTrue\u001B[39;00m)\n\u001B[1;32m      5\u001B[0m net \u001B[38;5;241m=\u001B[39m net\u001B[38;5;241m.\u001B[39mfrom_nx(G)\n\u001B[0;32m----> 6\u001B[0m \u001B[43mnet\u001B[49m\u001B[38;5;241;43m.\u001B[39;49m\u001B[43mwrite_html\u001B[49m(\u001B[38;5;124m\"\u001B[39m\u001B[38;5;124msize-graph.html\u001B[39m\u001B[38;5;124m\"\u001B[39m)\n",
      "\u001B[0;31mAttributeError\u001B[0m: 'NoneType' object has no attribute 'write_html'"
     ]
    }
   ],
   "source": [
    "from pyvis.network import Network\n",
    "\n",
    "# pyvis의 Network 객체 생성\n",
    "net = Network(notebook=True)\n",
    "net = net.from_nx(G)\n",
    "net.write_html(\"size-graph.html\")\n",
    "# net.show(\"size-graph.html\")"
   ],
   "metadata": {
    "collapsed": false,
    "ExecuteTime": {
     "end_time": "2024-01-04T04:16:45.315184Z",
     "start_time": "2024-01-04T04:13:52.649475Z"
    }
   },
   "id": "7d93fb981458c59d",
   "execution_count": 11
  },
  {
   "cell_type": "code",
   "outputs": [
    {
     "data": {
      "text/plain": "Uploading the dataset shards:   0%|          | 0/1 [00:00<?, ?it/s]",
      "application/vnd.jupyter.widget-view+json": {
       "version_major": 2,
       "version_minor": 0,
       "model_id": "6f2a76deb19f435b878d77de75ddcd0f"
      }
     },
     "metadata": {},
     "output_type": "display_data"
    },
    {
     "data": {
      "text/plain": "Creating parquet from Arrow format:   0%|          | 0/76 [00:00<?, ?ba/s]",
      "application/vnd.jupyter.widget-view+json": {
       "version_major": 2,
       "version_minor": 0,
       "model_id": "45964b947ad64de9a50d30a54ff8428b"
      }
     },
     "metadata": {},
     "output_type": "display_data"
    },
    {
     "data": {
      "text/plain": "README.md:   0%|          | 0.00/2.15k [00:00<?, ?B/s]",
      "application/vnd.jupyter.widget-view+json": {
       "version_major": 2,
       "version_minor": 0,
       "model_id": "799065793d8d487892472b64c6b2eadf"
      }
     },
     "metadata": {},
     "output_type": "display_data"
    },
    {
     "data": {
      "text/plain": "Dataset({\n    features: ['source', 'target', 'width', 'weight'],\n    num_rows: 75609\n})"
     },
     "execution_count": 10,
     "metadata": {},
     "output_type": "execute_result"
    }
   ],
   "source": [
    "import networkx as nx\n",
    "from datasets import Dataset\n",
    "\n",
    "edge_ds = Dataset.from_pandas(nx.to_pandas_edgelist(G).astype({\"source\": \"str\", \"target\": \"str\"}))\n",
    "edge_ds.push_to_hub(\"brainer/pill_identification_graph\", config_name=\"size-graph-edges\")\n",
    "edge_ds"
   ],
   "metadata": {
    "collapsed": false,
    "ExecuteTime": {
     "end_time": "2024-01-04T04:13:52.110030Z",
     "start_time": "2024-01-04T04:13:48.254799Z"
    }
   },
   "id": "46eb651836fe356b",
   "execution_count": 10
  },
  {
   "cell_type": "code",
   "outputs": [
    {
     "data": {
      "text/plain": "Uploading the dataset shards:   0%|          | 0/1 [00:00<?, ?it/s]",
      "application/vnd.jupyter.widget-view+json": {
       "version_major": 2,
       "version_minor": 0,
       "model_id": "d08d5dee54434ca4a4669dd9ab522084"
      }
     },
     "metadata": {},
     "output_type": "display_data"
    },
    {
     "data": {
      "text/plain": "Creating parquet from Arrow format:   0%|          | 0/26 [00:00<?, ?ba/s]",
      "application/vnd.jupyter.widget-view+json": {
       "version_major": 2,
       "version_minor": 0,
       "model_id": "64734ec9ed9e48fcb0be133a28936f6f"
      }
     },
     "metadata": {},
     "output_type": "display_data"
    },
    {
     "data": {
      "text/plain": "README.md:   0%|          | 0.00/2.33k [00:00<?, ?B/s]",
      "application/vnd.jupyter.widget-view+json": {
       "version_major": 2,
       "version_minor": 0,
       "model_id": "cac883593f3b4257b0261301ff0db3b1"
      }
     },
     "metadata": {},
     "output_type": "display_data"
    },
    {
     "data": {
      "text/plain": "CommitInfo(commit_url='https://huggingface.co/datasets/brainer/pill_identification_graph/commit/e9dde6a0b2614a6d84c7b7beacf49783a6aa2fce', commit_message='Upload dataset', commit_description='', oid='e9dde6a0b2614a6d84c7b7beacf49783a6aa2fce', pr_url=None, pr_revision=None, pr_num=None)"
     },
     "execution_count": 9,
     "metadata": {},
     "output_type": "execute_result"
    }
   ],
   "source": [
    "import pandas as pd\n",
    "\n",
    "node_ds = Dataset.from_pandas(pd.DataFrame(G.nodes, columns=[\"id\"]).astype({\"id\": \"str\"}))\n",
    "node_ds.push_to_hub(\"brainer/pill_identification_graph\", config_name=\"size-graph-nodes\")"
   ],
   "metadata": {
    "collapsed": false,
    "ExecuteTime": {
     "end_time": "2024-01-04T04:13:14.533072Z",
     "start_time": "2024-01-04T04:13:10.509495Z"
    }
   },
   "id": "5332bd4124eef52e",
   "execution_count": 9
  }
 ],
 "metadata": {
  "kernelspec": {
   "display_name": "Python 3",
   "language": "python",
   "name": "python3"
  },
  "language_info": {
   "codemirror_mode": {
    "name": "ipython",
    "version": 2
   },
   "file_extension": ".py",
   "mimetype": "text/x-python",
   "name": "python",
   "nbconvert_exporter": "python",
   "pygments_lexer": "ipython2",
   "version": "2.7.6"
  }
 },
 "nbformat": 4,
 "nbformat_minor": 5
}
