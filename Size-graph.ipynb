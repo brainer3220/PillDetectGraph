{
 "cells": [
  {
   "cell_type": "code",
   "execution_count": 1,
   "id": "initial_id",
   "metadata": {
    "collapsed": true,
    "ExecuteTime": {
     "end_time": "2023-12-31T06:59:02.274658Z",
     "start_time": "2023-12-31T06:58:55.734949Z"
    }
   },
   "outputs": [
    {
     "data": {
      "text/plain": "DatasetDict({\n    train: Dataset({\n        features: ['품목일련번호', '품목명', '업소일련번호', '업소명', '성상', '큰제품이미지', '표시앞', '표시뒤', '의약품제형', '색상앞', '색상뒤', '분할선앞', '분할선뒤', '크기장축', '크기단축', '크기두께', '이미지생성일자(약학정보원)', '분류번호', '분류명', '전문일반구분', '품목허가일자', '제형코드명', '표기내용앞', '표기내용뒤', '표기이미지앞', '표기이미지뒤', '표기코드앞', '표기코드뒤', '변경일자', '사업자번호', 'Unnamed: 30'],\n        num_rows: 25330\n    })\n})"
     },
     "execution_count": 1,
     "metadata": {},
     "output_type": "execute_result"
    }
   ],
   "source": [
    "import numpy as np\n",
    "from datasets import load_dataset\n",
    "\n",
    "dataset = load_dataset(\"brainer/pill_identification_data\")\n",
    "dataset"
   ]
  },
  {
   "cell_type": "code",
   "outputs": [
    {
     "data": {
      "text/plain": "Dataset({\n    features: ['품목일련번호', '크기장축', '크기단축', '크기두께'],\n    num_rows: 25221\n})"
     },
     "execution_count": 2,
     "metadata": {},
     "output_type": "execute_result"
    }
   ],
   "source": [
    "dataset = dataset[\"train\"]\n",
    "dataset = dataset.select_columns(['품목일련번호', '크기장축', '크기단축', '크기두께'])\n",
    "\n",
    "\n",
    "# Drop 품목명 == '보넥실캅셀<소브레롤>'\n",
    "def drop_not_float(example):\n",
    "    \"\"\"\n",
    "    크기장축, 크기단축, 크기두께가 float으로 변환 가능한지 확인\n",
    "    :param example: \n",
    "    :return: \n",
    "    \"\"\"\n",
    "    try:\n",
    "        float(example[\"크기장축\"])\n",
    "        float(example[\"크기단축\"])\n",
    "        float(example[\"크기두께\"])\n",
    "        return True\n",
    "    except ValueError:\n",
    "        return False\n",
    "\n",
    "\n",
    "dataset = dataset.filter(drop_not_float)\n",
    "dataset"
   ],
   "metadata": {
    "collapsed": false,
    "ExecuteTime": {
     "end_time": "2023-12-31T06:59:02.278608Z",
     "start_time": "2023-12-31T06:59:02.273154Z"
    }
   },
   "id": "ef77e3f2e8487506",
   "execution_count": 2
  },
  {
   "cell_type": "code",
   "outputs": [
    {
     "data": {
      "text/plain": "Map (num_proc=7):   0%|          | 0/25221 [00:00<?, ? examples/s]",
      "application/vnd.jupyter.widget-view+json": {
       "version_major": 2,
       "version_minor": 0,
       "model_id": "4dcf430ac8da4f52b708d73ee9c150ec"
      }
     },
     "metadata": {},
     "output_type": "display_data"
    }
   ],
   "source": [
    "# dtype str to int\n",
    "dataset = dataset.map(\n",
    "    lambda example: {\n",
    "        \"크기장축\": np.asarray(example[\"크기장축\"]).astype(np.float64),\n",
    "        \"크기단축\": np.asarray(example[\"크기단축\"]).astype(np.float64),\n",
    "        \"크기두께\": np.asarray(example[\"크기두께\"]).astype(np.float64),\n",
    "    },\n",
    "    num_proc=7,\n",
    "    batched=True,\n",
    "    batch_size=1000,\n",
    "    keep_in_memory=True,\n",
    ")"
   ],
   "metadata": {
    "collapsed": false,
    "ExecuteTime": {
     "end_time": "2023-12-31T06:59:02.733132Z",
     "start_time": "2023-12-31T06:59:02.279445Z"
    }
   },
   "id": "be5387e3b55b7718",
   "execution_count": 3
  },
  {
   "cell_type": "code",
   "outputs": [],
   "source": [
    "# Node: 품목일련번호: 식품의약품안전처 약품식별정보및 상세정보 보기 원료약품 및 분량, 효능효과, 사용상의주의사항,재심사, RMP, 보험, 기타정보, 생산실적\n",
    "# Edge: 크기장축, 크기단축, 크기두께를 고려한 상대적 부피\n",
    "\n",
    "# 부피\n",
    "dataset = dataset.add_column(name=\"크기\", column=list(np.asarray(dataset[\"크기장축\"]) * np.asarray(dataset[\"크기단축\"])))"
   ],
   "metadata": {
    "collapsed": false,
    "ExecuteTime": {
     "end_time": "2023-12-31T06:59:03.139907Z",
     "start_time": "2023-12-31T06:59:02.734406Z"
    }
   },
   "id": "b33ab4896ff9f225",
   "execution_count": 4
  },
  {
   "cell_type": "code",
   "outputs": [
    {
     "data": {
      "text/plain": "['품목일련번호', '크기장축', '크기단축', '크기두께', '크기']"
     },
     "execution_count": 5,
     "metadata": {},
     "output_type": "execute_result"
    }
   ],
   "source": [
    "dataset.column_names"
   ],
   "metadata": {
    "collapsed": false,
    "ExecuteTime": {
     "end_time": "2023-12-31T06:59:03.143465Z",
     "start_time": "2023-12-31T06:59:03.140182Z"
    }
   },
   "id": "46ec65a859dc7ba6",
   "execution_count": 5
  },
  {
   "cell_type": "code",
   "outputs": [
    {
     "name": "stdout",
     "output_type": "stream",
     "text": [
      "Warning: When  cdn_resources is 'local' jupyter notebook has issues displaying graphics on chrome/safari. Use cdn_resources='in_line' or cdn_resources='remote' if you have issues viewing graphics in a notebook.\n"
     ]
    },
    {
     "data": {
      "text/plain": "  0%|          | 0/25221 [00:00<?, ?it/s]",
      "application/vnd.jupyter.widget-view+json": {
       "version_major": 2,
       "version_minor": 0,
       "model_id": "d9f971117b3b4aba8f71f035fb25f779"
      }
     },
     "metadata": {},
     "output_type": "display_data"
    },
    {
     "data": {
      "text/plain": "  0%|          | 0/25221 [00:00<?, ?it/s]",
      "application/vnd.jupyter.widget-view+json": {
       "version_major": 2,
       "version_minor": 0,
       "model_id": "20c5973920bf4caa9f8797ac5129fd43"
      }
     },
     "metadata": {},
     "output_type": "display_data"
    }
   ],
   "source": [
    "from tqdm.notebook import tqdm\n",
    "from pyvis.network import Network\n",
    "\n",
    "# dataset = dataset.shard(num_shards=100, index=0).to_pandas()\n",
    "\n",
    "# '크기' 열의 값들을 리스트로 추출\n",
    "size_list = dataset['크기']\n",
    "\n",
    "# 가정: '품목일련번호' 열의 값들이 리스트로 주어짐\n",
    "item_numbers = dataset['품목일련번호']\n",
    "\n",
    "# pyvis의 Network 객체 생성\n",
    "net = Network(notebook=True)\n",
    "\n",
    "# 노드 추가\n",
    "for item in tqdm(item_numbers):\n",
    "    net.add_node(item)\n",
    "\n",
    "edge_count = {item: 0 for item in item_numbers}\n",
    "\n",
    "# 엣지 추가\n",
    "for i, item_i in tqdm(enumerate(item_numbers), total=len(item_numbers)):\n",
    "    for j, item_j in enumerate(item_numbers):\n",
    "        if item_i != item_j and edge_count[item_i] < 3:\n",
    "            # 여기서 size_list를 사용하여 가중치를 계산합니다.\n",
    "            # size_list가 0인 경우를 처리하기 위한 조건문을 추가할 수 있습니다.\n",
    "            weight = size_list[i] / size_list[j] if size_list[j] != 0 else 0\n",
    "            net.add_edge(item_i, item_j, value=weight)\n",
    "            edge_count[item_i] += 1  # 에지 수 업데이트"
   ],
   "metadata": {
    "collapsed": false,
    "ExecuteTime": {
     "end_time": "2023-12-31T07:02:05.237971Z",
     "start_time": "2023-12-31T06:59:03.144307Z"
    }
   },
   "id": "ac32513bb9cbf1fa",
   "execution_count": 6
  },
  {
   "cell_type": "code",
   "outputs": [],
   "source": [
    "net.write_html(\"size-graph.html\")\n",
    "# net.show(\"size-graph.html\")"
   ],
   "metadata": {
    "collapsed": false,
    "ExecuteTime": {
     "end_time": "2023-12-31T07:02:05.327945Z",
     "start_time": "2023-12-31T07:02:05.321495Z"
    }
   },
   "id": "7d93fb981458c59d",
   "execution_count": 7
  },
  {
   "cell_type": "code",
   "outputs": [
    {
     "data": {
      "text/plain": "(Dataset({\n     features: ['node', 'label'],\n     num_rows: 25205\n }),\n Dataset({\n     features: ['value', 'from', 'to'],\n     num_rows: 75609\n }))"
     },
     "execution_count": 21,
     "metadata": {},
     "output_type": "execute_result"
    }
   ],
   "source": [
    "from datasets import Dataset\n",
    "import pandas as pd\n",
    "\n",
    "# 네트워크 데이터를 리스트 형식으로 변환\n",
    "nodes_data = [{'node': node, 'label': str(node)} for node in net.nodes]\n",
    "edges_data = [{'value': edge['value'], 'from': edge['from'], 'to': edge['to']} for edge in net.edges]\n",
    "\n",
    "# pandas DataFrame을 Hugging Face datasets.Dataset으로 변환\n",
    "nodes_dataset = Dataset.from_pandas(pd.DataFrame(nodes_data))\n",
    "edges_dataset = Dataset.from_pandas(pd.DataFrame(edges_data))\n",
    "nodes_dataset, edges_dataset"
   ],
   "metadata": {
    "collapsed": false,
    "ExecuteTime": {
     "end_time": "2023-12-31T07:07:41.401103Z",
     "start_time": "2023-12-31T07:07:41.280104Z"
    }
   },
   "id": "350f965f48aac0d1",
   "execution_count": 21
  },
  {
   "cell_type": "code",
   "outputs": [
    {
     "data": {
      "text/plain": "Uploading the dataset shards:   0%|          | 0/1 [00:00<?, ?it/s]",
      "application/vnd.jupyter.widget-view+json": {
       "version_major": 2,
       "version_minor": 0,
       "model_id": "a10f54966cf14cf2ab0a48e2e7a33d48"
      }
     },
     "metadata": {},
     "output_type": "display_data"
    },
    {
     "data": {
      "text/plain": "Creating parquet from Arrow format:   0%|          | 0/26 [00:00<?, ?ba/s]",
      "application/vnd.jupyter.widget-view+json": {
       "version_major": 2,
       "version_minor": 0,
       "model_id": "e9fc82403c924797882a2d281844bd1e"
      }
     },
     "metadata": {},
     "output_type": "display_data"
    },
    {
     "data": {
      "text/plain": "Uploading the dataset shards:   0%|          | 0/1 [00:00<?, ?it/s]",
      "application/vnd.jupyter.widget-view+json": {
       "version_major": 2,
       "version_minor": 0,
       "model_id": "fee97a3108124462be1bab81dab0e908"
      }
     },
     "metadata": {},
     "output_type": "display_data"
    },
    {
     "data": {
      "text/plain": "Creating parquet from Arrow format:   0%|          | 0/76 [00:00<?, ?ba/s]",
      "application/vnd.jupyter.widget-view+json": {
       "version_major": 2,
       "version_minor": 0,
       "model_id": "86f92ed3fc234caea979bc3b4dcea123"
      }
     },
     "metadata": {},
     "output_type": "display_data"
    },
    {
     "data": {
      "text/plain": "README.md:   0%|          | 0.00/502 [00:00<?, ?B/s]",
      "application/vnd.jupyter.widget-view+json": {
       "version_major": 2,
       "version_minor": 0,
       "model_id": "6c6f92803ec54a75a09b59925b2b6497"
      }
     },
     "metadata": {},
     "output_type": "display_data"
    },
    {
     "data": {
      "text/plain": "CommitInfo(commit_url='https://huggingface.co/datasets/brainer/pill_identification_graph/commit/7d966055cc18c19b97bbf2f597de2491d5e37159', commit_message='Upload dataset', commit_description='', oid='7d966055cc18c19b97bbf2f597de2491d5e37159', pr_url=None, pr_revision=None, pr_num=None)"
     },
     "execution_count": 20,
     "metadata": {},
     "output_type": "execute_result"
    }
   ],
   "source": [
    "nodes_dataset.push_to_hub(\"brainer/pill_identification_graph\", config_name=\"size-graph-nodes\")\n",
    "edges_dataset.push_to_hub(\"brainer/pill_identification_graph\", config_name=\"size-graph-edges\")"
   ],
   "metadata": {
    "collapsed": false,
    "ExecuteTime": {
     "end_time": "2023-12-31T07:06:58.581344Z",
     "start_time": "2023-12-31T07:06:52.318964Z"
    }
   },
   "id": "8645ee1e153e278e",
   "execution_count": 20
  }
 ],
 "metadata": {
  "kernelspec": {
   "display_name": "Python 3",
   "language": "python",
   "name": "python3"
  },
  "language_info": {
   "codemirror_mode": {
    "name": "ipython",
    "version": 2
   },
   "file_extension": ".py",
   "mimetype": "text/x-python",
   "name": "python",
   "nbconvert_exporter": "python",
   "pygments_lexer": "ipython2",
   "version": "2.7.6"
  }
 },
 "nbformat": 4,
 "nbformat_minor": 5
}
